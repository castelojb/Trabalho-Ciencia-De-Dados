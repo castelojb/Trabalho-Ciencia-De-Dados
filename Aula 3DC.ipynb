{
 "cells": [
  {
   "cell_type": "markdown",
   "metadata": {},
   "source": [
    "# Aula 3\n",
    "---\n",
    "\n",
    "Essa aula é um desafio para por em prova seus conhecimentos em Scala! Para resolvê-lo, você deverar utilizar o que foi apresentado nas últimas aulas E consultar materiais complementares(stack overflow) para aprender ainda mais em um cenário prático!"
   ]
  },
  {
   "cell_type": "markdown",
   "metadata": {},
   "source": [
    "## Baixando o dataset\n",
    "\n",
    "O dataset desta atividade foi tirado do Kaggle e chama-se [Food Ingredient List](https://www.kaggle.com/datafiniti/food-ingredient-lists/version/1#). Ele contém os ingredientes presentes em 10000 produtos encontrados em supermercados. Para mais informações, visite a [página do dataset](https://www.kaggle.com/datafiniti/food-ingredient-lists/version/1#).\n",
    "\n",
    "O código abaixo faz o download do dataset para o diretório atual deste notebook."
   ]
  },
  {
   "cell_type": "code",
   "execution_count": 10,
   "metadata": {},
   "outputs": [
    {
     "data": {
      "text/plain": [
       "\u001b[32mimport \u001b[39m\u001b[36msys.process._\n",
       "\n",
       "//\"wget -O ingredients.tsv https://drive.google.com/uc?export=download&id=1oTjCLXJZjciOmpweGsirlreu9zcrm6Py\"!\u001b[39m"
      ]
     },
     "execution_count": 10,
     "metadata": {},
     "output_type": "execute_result"
    }
   ],
   "source": [
    "import sys.process._\n",
    "\n",
    "//\"wget -O ingredients.tsv https://drive.google.com/uc?export=download&id=1oTjCLXJZjciOmpweGsirlreu9zcrm6Py\"!"
   ]
  },
  {
   "cell_type": "markdown",
   "metadata": {},
   "source": [
    "## Processando o dataset\n",
    "\n",
    "Para simplificar o desafio (pois já há muita coisa difícil para se fazer) o dataset foi mapeado para TSV. As informações estão separadas por **tabulações** (caractere \\t). Processe-o e armazene-o da maneira que achar mais conveniente"
   ]
  },
  {
   "cell_type": "code",
   "execution_count": 1,
   "metadata": {},
   "outputs": [
    {
     "data": {
      "text/plain": [
       "defined \u001b[32mclass\u001b[39m \u001b[36mAmostra\u001b[39m"
      ]
     },
     "execution_count": 1,
     "metadata": {},
     "output_type": "execute_result"
    }
   ],
   "source": [
    "class Amostra(cabecalho:List[String] , line: List[String]){\n",
    "    var dataset: Map[String, String] = Map()\n",
    "    \n",
    "    var j = 0\n",
    "    for(i <- cabecalho){\n",
    "        if(j<line.length) dataset=dataset + (i -> line(j) )\n",
    "        else dataset=dataset + (i -> \"\")\n",
    "        j +=1\n",
    "    }\n",
    "    \n",
    "     \n",
    "    \n",
    "    \n",
    "}"
   ]
  },
  {
   "cell_type": "code",
   "execution_count": 2,
   "metadata": {
    "scrolled": true
   },
   "outputs": [
    {
     "name": "stdout",
     "output_type": "stream",
     "text": [
      "List(id, asins, brand, categories, dateAdded, dateUpdated, ean, features.key, features.value, manufacturer, manufacturerNumber, name, sizes, upc, weight, Unnamed: 15)\n",
      "weight -> 10.6 pounds\n",
      "name -> Simon Fischer Fruit Bttr Prune Lekvar\n",
      "brand -> Simon Fischer\n",
      "Unnamed: 15 -> \n",
      "features.key -> Ingredients\n",
      "upc -> 41642026706\n",
      "features.value -> Dried Prunes,Water,Corn Syrup,Sugar,Pectin.\n",
      "id -> AVphBRHOilAPnD_x0OrE\n",
      "manufacturerNumber -> 33829\n",
      "categories -> Grocery & Gourmet Food,Food,Grocery\n",
      "sizes -> \n",
      "asins -> B00HXST15C\n",
      "manufacturer -> Sokol And Company\n",
      "dateUpdated -> 2017-06-30T16:48:02Z\n",
      "ean -> 41642026706\n",
      "dateAdded -> 2017-01-07T20:13:17Z\n"
     ]
    },
    {
     "data": {
      "text/plain": [
       "\u001b[32mimport \u001b[39m\u001b[36mscala.io.Source\n",
       "\u001b[39m\n",
       "\u001b[36mlines\u001b[39m: \u001b[32mIterator\u001b[39m[\u001b[32mString\u001b[39m] = empty iterator\n",
       "\u001b[36mcabecalho\u001b[39m: \u001b[32mList\u001b[39m[\u001b[32mString\u001b[39m] = \u001b[33mList\u001b[39m(\n",
       "  \u001b[32m\"id\"\u001b[39m,\n",
       "  \u001b[32m\"asins\"\u001b[39m,\n",
       "  \u001b[32m\"brand\"\u001b[39m,\n",
       "  \u001b[32m\"categories\"\u001b[39m,\n",
       "  \u001b[32m\"dateAdded\"\u001b[39m,\n",
       "  \u001b[32m\"dateUpdated\"\u001b[39m,\n",
       "  \u001b[32m\"ean\"\u001b[39m,\n",
       "  \u001b[32m\"features.key\"\u001b[39m,\n",
       "  \u001b[32m\"features.value\"\u001b[39m,\n",
       "  \u001b[32m\"manufacturer\"\u001b[39m,\n",
       "  \u001b[32m\"manufacturerNumber\"\u001b[39m,\n",
       "\u001b[33m...\u001b[39m\n",
       "\u001b[36mdataset\u001b[39m: \u001b[32mList\u001b[39m[\u001b[32mAmostra\u001b[39m] = \u001b[33mList\u001b[39m(\n",
       "  $sess.cmd0Wrapper$Helper$Amostra@2f11e8c1,\n",
       "  $sess.cmd0Wrapper$Helper$Amostra@3a917116,\n",
       "  $sess.cmd0Wrapper$Helper$Amostra@13d4c7c0,\n",
       "  $sess.cmd0Wrapper$Helper$Amostra@5b61ce6d,\n",
       "  $sess.cmd0Wrapper$Helper$Amostra@7b966220,\n",
       "  $sess.cmd0Wrapper$Helper$Amostra@4a3eb585,\n",
       "  $sess.cmd0Wrapper$Helper$Amostra@7f6181c5,\n",
       "  $sess.cmd0Wrapper$Helper$Amostra@2aa63ae2,\n",
       "  $sess.cmd0Wrapper$Helper$Amostra@62e9caf4,\n",
       "  $sess.cmd0Wrapper$Helper$Amostra@5d44c9b1,\n",
       "  $sess.cmd0Wrapper$Helper$Amostra@2e580475,\n",
       "\u001b[33m...\u001b[39m\n",
       "\u001b[36mteste\u001b[39m: \u001b[32mIterator\u001b[39m[\u001b[32mString\u001b[39m] = empty iterator\n",
       "\u001b[36mi\u001b[39m: \u001b[32mInt\u001b[39m = \u001b[32m10000\u001b[39m"
      ]
     },
     "execution_count": 2,
     "metadata": {},
     "output_type": "execute_result"
    }
   ],
   "source": [
    "import scala.io.Source\n",
    "val lines = Source.fromFile(\"ingredients.tsv\").getLines\n",
    "\n",
    "val cabecalho = lines.next.split(\"\\t\").toList\n",
    "println(cabecalho)\n",
    "\n",
    "var dataset: List[Amostra] = List()\n",
    "\n",
    "\n",
    "val teste = lines\n",
    "var i=0\n",
    "while(lines.hasNext){\n",
    "    var line = lines.next.split(\"\\t\").toList\n",
    "    dataset = dataset ::: List(new Amostra(cabecalho,line))\n",
    "    i +=1\n",
    "    \n",
    "    \n",
    "    \n",
    "    \n",
    "    \n",
    "}\n",
    "\n",
    "println(dataset.head.dataset.mkString(\"\\n\"))\n"
   ]
  },
  {
   "cell_type": "markdown",
   "metadata": {},
   "source": [
    "## Demandas\n",
    "---"
   ]
  },
  {
   "cell_type": "markdown",
   "metadata": {},
   "source": [
    "### 1 - Quantas e quais as marcas de produtos contidas no dataset?"
   ]
  },
  {
   "cell_type": "code",
   "execution_count": 3,
   "metadata": {},
   "outputs": [
    {
     "name": "stdout",
     "output_type": "stream",
     "text": [
      "3144\n"
     ]
    },
    {
     "name": "stdout",
     "output_type": "stream",
     "text": [
      "Set(ChocZero, Fudge Shoppe, Nabisco, WarHeads, Pappy's, Morton & Bassett, Chocolove, Organic Valley, Dove, Yum Earth, DaVinci, Mike's Popcorn, Mokulele Farms, Tadin, Bridgford, KAY'S NATURAL, Werthers, Bella Viva Dried Fruit, CAFE DU MOND, Caramel Creams, Bear Creek, Mexicali Rose, Emeril, Zcalo Peru, Maxwell House, Diabetic Friendly, Goldbaum's, TRAPPIST, Bio Nutrition, Cadbury Dairy Milk, Mars Chocolate, Quinn Foods, Sweetarts, Tosi Health, Runa Clean Energy Drinks, Martha Whiteï¿½ï¿½, CoCo Libre, Town House, Lightlife, gallo, Rao's, Simpkins, Gift Basket Village, Disney, Osem, Smithfield, Steaz, KENS SALAD DRESSING, Choice Organic Teas, Cafe Don Pablo, Hot Pockets, Butterkist, Katja, Sweet 'N Low, Golden Barrel, The TeaRoom, Vigo, Cascadian Farm, Blow Pops, Steviva Brands, One, OlÃ©, Adams Manufacturing, YOGI, LesserEvil Healthy Brands, Food Merchants, Lifestyle Dynamics, The Perfect Purï¿½ï¿½e of Napa Valley, Lysander's, Good Cook, Aunt Gussie's, , Simon Fischer, Goldfish, TIM HORTON, Deli Deluxe, Concord, Propel, Uncle Lee's, Seapoint Farms, Bread Box Bakery Caf - Shipshewana, IN, Hula Delights, Stewarts, Three Ladies, Larry The Cable Guy, American Distribution & Mfg, Del Monte Quality, Realemon, El Monterey, Great Northern Popcorn, Dynamic Health, Polar, RiceSelect, Kitchen Table Bakers, Fifty-50, SunnyD, Boulder Granola, Southern Breeze, Kettle Foods, NestlÃ© TOLL HOUSE, Chuao Chocolatier, Cali'flour Foods, YummyEarth, Dare, Ready Project, Baja Cafe, Wild Hibiscus, Pepperidge Farm Chunk, Davidson's Tea, Hodgson Mills, BG, Explore Asian, Matsuda, Unique Pretzels, Alaska Smokehouse, AquaFina, New York Style, Regina, Ito En, Udi's, Cains, CAMPBELL'S HEALTHY REQUEST, Wrigleys, Caffarel, Kaytee, MaraNatha, Rippin Good, Pepsi Zero, Office Snax, Nabisco Classics, Pure Life, Mountain Dew Diet, Crunch 'n Munch, Bunnery Natural Foods, Siggis, Desert Pepper, Nickles, Eight O'Clock Coffee, Jcoco, Indus Organics, Haviland, Chiquilin, Kool-aid, Orange Crush, Blue Bird Bakeries, Sunkist, Banyan Botanicals, Rice Krispies, Wisconsinmade, Boscoli, Perfect Pinch, Annies, Wisdom Of The Ancients, Paradise Meadow, Mi-Del, Wild Garden, Old Cape Cod, Tom and Jerry, Dreamfields, Koppers, Southern Biscuit, Heartbar, l.j. minors, True Lemon, Fairytale Brownies, Apple & Eve, Terra Medi, Quantumchaos Media, Capri Sun, Coconut Dream, Goody Good Stuff, Bascom, Orville Redenbacherï¿½ï¿½ï¿½s, Chobani, Salada, Candy Buffet Store, Better Oats, VANS, Oh! NutsÂ®, Cheez-It, Boscoli Foods, PEPPERIDGE FARM, Best Maid Products, Teavana, nasoya, Jambalaya Girl, Mt Hagen, Mom's Place Gluten Free, Momma's Rainbow Candy, Smart Sense, 34 Degrees, Andes, Pure Traditions, Bagel Spice, Child Life, Splenda, Jer's Chocolates, Gwaltney, Daim, India Tree, CAIN, A.1., Amish Farms, Schogetten, Shimabara Tenobe Somen, El Yucateco, Pure Growth, Maison Arostï¿½ï¿½guy, Chiarezza, Beautiful Sweets, Mr. Clean, NATURE'S GREENS, Mrs. Wages, Enjoy Life Foods, Glade, Move Over Butter, Near East, Wolf Brand Chili, Indolce Confections, Addictive Wellness, Arrowhead, Z Natural Foods, Two Leaves and a Bud, Earthbound Farm, Butterfinger, Carrington, TruVibe Organics, Walden Farms, Manischewitz, Kervan, Jayone, Trader Joe's, Boulder Canyon, California Delicious, Ancient Harvest, Organico, Jalpur, Sweethearts, GRILLED & READY, Underwood, Oatfield, ZATARAIN S, Giusto Sapore, Kopiko, General Nature, Dr. McDougalls Right Foods, Concord Confections, Koffee Kult, Nature's Own, Daisy, Euro Pipo, Snickers, Pasta Roni, LIOR, Carrington Farms, Best Yet, Utz, Stacys Snacks, Kal, Ziploc, Gluten Free Meister, Consorzio, SweetGourmet, Yost Brands, Barnana, Popcorners, Mary's Gone Crackers, Amarischia, Napoleon Co., Rise Foods, Chi Chi's, MCCORMICK CALIFORNIA STYLE, Applegate Naturals, Sarabeth's, B Fresh, Nuttzo, Crunch Pak, Cake Mate, Fanta, Pagen, Glaceau, Land O'Lakes, Bonne Maman, Favorit Swiss Preserves, Concord Foods, Meditalia, Tillamook Cheese, Coca-Cola, Milani, Horizon Organic, T. Marzetti, HARMONY FARMS, PEPPERIDGE FARM FRESH BAKERY, Sunbelt Bakery, Hikari Miso, Bahlsen, RONZONI GARDEN DELIGHT, Mccormick, BAKERS, Beyond Better, Ian's, KIND, Turtles, Wesson, Cultures For Health, Bubblicious Bubble Gums, Dr. McDougall's, BIMBO BAKERIES, The Organic Coffee Co., Palmolive, Motts, Perry's Ice Cream, Cookies Food Products, Kahn's, Kiddysway, Wholesome Sweeteners, Buff Bake, Live G Free, Oregon Chai, SAM ADAMS, Country Choice Organic, Chef's Quality, Rasta Fire, Full Throttle, Farmhouse Kitchens, Cornnuts, Chex, VERSANTO, Rc Cola, Cinnabon, Gourmet Food World, Pretzel Pete, RiverFinn, Peanut Butter Co., Pillsbury, Badia Spice, Squid, Bisquick, Campbell's Homestyle, Klement's, Oscar Mayer, Assi, McVities, Pero, Applegate Farms, Edward Sons, Harney & Sons, Pepperidge Farm Swirl, Wildway, Toblerone, Kisses, Nabisco Variety, The Better Chip, Hot Shot Gear, Lindsay, OSCAR MAYER BACON, Salsa, HERSHEY'S, Bruce's, Nagaraya, Skinny Cow, Sunrise Confections, Cherryvale Farms, Gil's Gourmet, KITCHENS OF IND, Black Label Gourmet, Healthy Times, Nestle Crunch, Organic India, Canada Dry, PUROAST COFFEE, Lyons, Kuner's, Partanna, Talenti, SunLuck, Yamamotoyama, Popcorn Indiana, Scooby-Doo!, Panni, Dirty Sue, Aunt Millie's, Munch, Old Bay, Lorna Doone, Mr. Kipling, K & K (Keandoke), KooL-Aid, Sparkling Ice, Eden Foods, Tully's, Maranatha, Sushi Sonic, Escape Concepts, Cadbury Fingers, Mestemacher Bread, SIPP, Buddha Teas, Newman's Own, Delicae Gourmet, Maltesers, Natural Value, Fifty 50, Cesar, DaVinci Pasta, Foster's, Fantastic World Foods, Element Snacks, Washington, Seagram's, Wild Oats, World Harbors, Shiloh Farms, Twizzlers, Eden Organic, Ring Pop, Brad's Raw, Improveat, Shirakiku, Goya Food, Powerade, Purina Deli-Cat, Sergeant's, Skinner, Wish-Bone, Nile Spice, Zamouri Spices, Wissotzky Tea, Cocoaland, Tampico, Olive Garden, Skinny Noodles Shirataki, Apple  Eve, Libby's, Universal Nutrition, Nature's Path, DeVries Chocolate, Ener-G, Red Rose, Santitas, King Pak, Miracle Noodle, Crosse And Blackwell, TAZA chocolate, Aleias, General Mills, Santo Tomas, Cocoa Puffs, Love Grown, Pure Matcha, Simply Protein Chips, New England Naturals, GoPicnic, Mancini, Liebers, Carolina, Sierra Soups, faerie's finest, Brunswick, Krusteaz, Tinkyada, GOSLING S RUM, Mr. Mustard, STOUFFER'S SATISFYING SERVINGS, Rodelle, Juicy Juice, Le Gemme Del Vesuvio, Myojo, Postamble, Airheads, EMERIL S, Hapa's Gourmet Inc., MiraBurst, RagÃº, Kobayashi Noodle, House-Autry, KIT KAT, Paleo Treats Inc., Mary Jane and Friends, Lenny Larry's, Purina ONE, Allens, TOTIS, Starwest Botanicals, Herbal Secrets, Linda's Lollies, Shelburne Country Store, Nando's, Cobblestone Bread Co., BRISK, Inka Crops, Amora, MRS CRIMBLES, Fun Pack Foods, Great Value, Tatebayashi Udon, Diamond Crystal Sales, Boston Market, Mentos, Mountain Dew, Med-Choice, Sanka, Mike Ike, Tortuga, Lizi's Granola, Sylvia's, OLE, Nutiva, Country Time, St. Claire's Organics, GOYA FOODS, INC, HORMEL REV, Weight Watchers Smart Ones, Jax, Yogi Tea, Gorge Delights, Glutino!, Jel Sert, CubanFoodMarket, Melina's, NAPA VALLEY BIS, Gator Burrp, Dingo, Pacific Foods, Lavazza, Nunaturals, Cattlemen's, Pastorelli, Ozarka, FUNYUNS, Fall River Wild Rice, Bodyarmor, Disnep, Art of Appreciation Gift Baskets, Bechtle, NuGo Stronger, Natures Earthly Choice, ROSELLIS, Godiva, Stakich, Miller High Life, Yoplait, Sa Japanese Green Tea, Hot Shot, Hershey's, Soft Scrub, Farley's & Sathers, Meiji, Ruffles, Snackwells, Bird's, Santa Fe Bean, Oberto, La Moderna, Louisiana Fish Fry Products, Peter Pan, Hidden Valley, Del-Dixi, Hills Bros, Nissin, Carapelli, Hi-C, Cavendish, President, Pop Ice, Nissin Demae, Ghirardelli, Oh! Nuts, PILLSBURY BAKING, Campbell's Skillet Sauces, Philly Sweettooth, Shore Lunch, Accord Foods, Twinings, Brenda's Perfect Brittle, Blue Bonnet, WELCH'S FRUIT SNACKS, Epicerie de Provence, Ibo T..., WaiLana, Ella's Kitchen, Skittles, Chicken In A Biskit, Candy Tree, Wholesome, DeCecco, Cheerios, 21st Century, Nogii, PEREG, Fisherman's Friend, Salpica, A Great Surprise, A-1, Fiesta, Kehe, Renuzit, Bitsy's Brainfood, GoLightly, Haribo, D'allesandro, Delouis, Coffee People, Rossi Pasta, PEPSI NEXT, Hollywood, Dunkin' Donuts, NewTree, Arora Creations, EZ-Sweetz, Keebler Right Bites, Torani, Bigs, Gourmet House, Moonstruck Chocolate, Old Wessex, Trident, Sour patch kids, Ryvita, vitaminwater, Sunny D, 4C Foods, Marco Polo, Tres Estrellas, Banquet, Goetze's, Jansal Valley, Bowl Noodles, RED VINES, World Confections, Santa Barbara, The Great San Saba River Pecan Company, La CosteÃ±a, Nestle Nutrition, Italia-Gourmet, HEILEMANN, Nesquik, Keystone Meats, HAPPY COLA, Fabuloso, Frito Lay, Shakespeare's Chocolate, Bunny, Borden, RIENZI, Sir Kensington's, Sturdiwheat, Whitmans, Greens Plus, Fentimans, Caffe D'Vita, Progresso, Lindt, Happy Baby, Activia, Tetley, Premium, Exclusively Dog, Tong Garden, Streit's, Pompeian, Lang's Chocolates, GG Bran Crispbread, Baetea, Naturally More, Kim & Scott's Gourmet Pretzels, Victor Allen's Coffee, Gluten Free Prairie, Hellmanns, Gain Washing and detergent, Royal Crown, Welch's, Stonewall Kitchen, Kikkoman, Nature's Bakery, Simply Lemonade, JHL, Handy Pantry, Crispy Green, Hungry Jack, Peloponnese, Amy & Brian, Chewits, Peak Performance Life, Sensible Portions, Ciao Carb, Poptarts, Season, Frosty Paws, Maui Fruit Jewels, Mr Wheat, Triscuit Original, 9-Ounce (Pack of 2), Fusco, Angel Soft, kerrygold, Celebrations, Lesser Evil, Organic Matters, Guru, Moore's, The Seaweed Solution, Skinny Girl, Suzie's, Perrier, Naturipe Farms, Robin Hood, Honey-comb, NewGem Foods, Haagen-Dazs, Corporate Candy Wraps, Lafaza, BoboS Oat Bars, Twizzler, Tropicana, Jimmy Dean, Baron's, Happy Family, Baileys Irish Cream, Le Palais des Thea LLC, Oberto Brands, TIESTA TEA, Betty Crocker Baking, Grey Poupon, Elledi Dolci Emozioni, Perdue, Chi-Chi's, Chock full o'Nuts, Mt. Vikos, Altoids, Coffee Masters, Boyds Coffee, Kraft, Monster, Crush, Wholeome Sweeteners, Werther's Original, The King's Cupboard, Wolfgang Puck, TETLEYï¿½ï¿½, MTR, Hot Tamales, Primizie, all, FRITO-LAY, Zatarain's, Red Boat, Cote D'Or, Lotus, Finn Crisp, Dr. McDougall's Right Foods, Ines Rosales, Laffy Taff"
     ]
    },
    {
     "name": "stdout",
     "output_type": "stream",
     "text": [
      "y, Zero, Mr. Goodbar, Green Leaf Foods, VELVEETA, VIRGILS, Confections, Kedem Gourmet, Kinnikinnick Foods, ApricotSeeds-EU, Jujyfruits, Orangina, Just Tomatoes, Etc!, Bite Fuel, Sheila Gs, Martin's, Back to Nature, Spicy World, Meat Chips, Queen Anne, Lucky Charms, Lundberg Family Farms, Mantova, Purina Cat Chow, Famous Amos, Mounds, Krave, Talk O' Texas, Silk, All Natural, Iceland Spring, Armour, HARTZ, Galerie, Caronlina, Royal Kona, DEER PARK, Toy Biz, Bapmart, Simply 7, Lundberg Farms, TAZO, 1/2/2003, AMYS, Goodness Knows, Sincerely Nuts, SIERRA NEVADA, S&W, Mezzetta, SamMills, Taco Bell, Pereg Gourmet, Big John's, BANZA, Taster's Choice, Bar Harbor, Vogel's, Victorio, Morton Bassett, Isernio's, Umpqua Oats, Pace, MARIE CALLENDER'S (MC), Tree Top, Manuka Doctor, Lake Champlain Chocolates, Charleston Chew, Knorr, GHIRADELLI, La Yogurt, HAPPY BABY, Johokumen-ko, KA-ME, Hartz, FUN POPS, OWN BRAND PACKER, Gnu Foods, Goshen Amish Honey, Kettle Brand, Big League Chew, Pomï¿½ï¿½, Lea & Perrins, Partners Brand, Wyler's Light, Natural Kingdom, Frank's, COMPLEATS, Bachman, Slofoodgroup, Kellogg's, Simpsons, B & G FOODS, NuNaturals, George Washington, Mrs.Bryant's, Enjoy Life, Schweppes, LaCroix, Takis Fuego, Sukrin, Bar-S, Colcafe, Elite Home Fashions, Kirkland, Mothers, Marukan Vinegar, Mrs. Freshley's, Swiss Knight, Pillsbury Baking, Julian Bakery, AIRHEADS, Chips Ahoy!, Heinz, Eclipse, Herr's, Beanitos, Primal Palate Organic Spices, Ferrero Rocher, Sabritas, B&M, Ranch Rewards, Simply Gum, C&H, Clif Kid ZBar, Archer Products, Orgran, LesserEvil, Sathers Candy, RED STAR, Marzetti, True Lime, Jiffy Pop, Ona Treats, SWEET CANDY COMPANY, WHOLE EARTH, Vintage, Lovely Candy Company, Ocho Candy, Mauna Loa, Horizon, Roland Products, Crown Prince, MOUNTAIN PEAK, Good Health, Sabatino Tartufi, RICE A RONI, Push Pop, Diabetic Kitchen, Pioneer, MAXWELL HOUSE, Farmer John, MeadowCroft Farm, Bobs, Alo, Royal, NUTRISCA, Sweet'N Low, Harbor Wholesale Grocery, POP TARTS, Just Great Stuff, MICHAELS OF BRO, Nordic Sweets, Barilla, Tostitos, Landshark, NILLA, Morning Song, T.G.I. Friday's, Colavita, Tasty Bite, Life Gourmet Shop, Crazy Cups, Red Bull, Farley's, Gordo's, Rit, Traeger, Numi, Stacy's, Dempsey Bakery, Rolo, Gluten Free Mama, Maple, Kool Aid, CHEF BOYARDEE, Amp, Mueller Sport Care, Klaus, Oak Leaf, Vermont Smoke & Cure, Al Dente, Raincoast Trading, Amish Country, Holy Crap, Cream of Wheat, Nutrisystem, Ceres, Archer Farms153, NibMor, Magic Seasoning Blends, Kin Dee, R.W. Knudsen Family, AASAN, Seattles Best Coffee, Gardetto's, Salem Baking Company, MM, Los Chileros, Siamproviding, Erin Baker's, Woodstock Farms, Dr. Pepper, Pico Pica, Gerber, Conchita, Kinnikinnick, Crawfords, Pukka, Miss Leone's, Leonard Mountain, Kahiki, Victoria, Knott's, Hi-Chew, Casey Ann's Candies, Just Popped, Wonka, Miles Kimball, Jolly Time, Piasten, Dawn, PASTA CHIPS, Port Chatham, Wilton, Mars, Thats It, Braswells, Stonyfield, Filotea, YumEarth Organics, Allen's Naturally, Marinela, Canteperdix, Pursuit of Spice, Cortas, Thai KitchenÂ®, Carolina Country Snacks, Cameron's Coffee, Rubbermaid, Skinnygirl? Tea, Farmland Foods, EnviroKidz, Smucker's, GoMacro, Pledge, Bistefani, Simple Squares, Sun Drop, Kokuho, S&W Manufacturing, Natural Vitality, Great Lakes, Lakewood, StoreHouse Foods, Zoup, Marshall's Creek Spices, Martinson, Jack Link's, Hanami, Ishiguroseimen, Pilgrim's, Dowling Magnets, Ziyad, Di Lusso, Chipsahoy, Taylors of Harrogate, Nature's Earth Products, Better Than Milk, Welchs, Bimbo, riceworks, Massel, Natural Mate, SOUR PUNCH, DE CECCO PASTA, Coco Polo, TYSON FOODS, Country Kitchen, SeaSnax, Shigenoseimen, Chef Paul Prudhomme's, Think Products, Good Earth, ORGANIC COFFEE, Penzeys, Zombie Cajun, Derlea Foods, Tahitian Treat, The PUR Company, White Lily, KING'S HAWAIIAN, Hakubaku, purely elizabeth, N'Joy, SodaStream, Kitchen Basics, Tate's Bake Shop, Right Bites, Raw Revolution, Finlandia, Old Orchard, Special K, Matcha 4 Me, Nestlï¿½ï¿½, Woodland Ingredients, Foster Farms, LAWRYS, Dorset Cereal, Favorit, Betty Crocker Potatoes, Mrs. Renfro's, Rice A Roni, Sencha Naturals, Coffee Bean & Tea Leaf, Kedem, Zapp's, Trolli, Munchos, Jif, Tuttorosso, Miller Lite, Ajax, OXICLEAN, Tabatchnick, Sw, Itsuki food, Glad, Iberia, Gerber Graduates Fruit Dices, Snack Factory, Green Bulk, Belgium Boys, COLORSPLASH LOLLIPOPS, Coca-cola, Alkaline 88, New England Coffee, gimMe Snacks, Colby Ridge Popcorn, Seaweed Love, Cloralen, Coffee-mate, Natural Healing House, THE GOOD BEAN, PUR Gum, LA MOLISANA, Aura Cacia, Mr Junky Food, Ayala's, Por Kwan, 7up, Golden Grain, Nutter Butter Bites, Maggi, Aqua Star, KRUNCHY MELTS, Fiber One Snacks, Heineken, Hershey's Kisses, COCOBANANA, Zephyrhills, DanActive, Complete Salad, Hoosier Hill Farm, TOMBSTONE, Country Club, Nonni's, Purina Friskies, Snyder's of Hanover, PerfectaGel, Sevigny's, Birch Benders, Panda, Tazo, Matt's Munchies, Thomas', Intemperantia, Monticello, Rockstar, Marketside, Contadina, Hills Bros., WHOLESOME SWEET, MatchaDNA, Blue Diamond Almond Breeze, INDIA TREE, Nongshim, Tea Beyond, Absolutely, Byler's Relish House, Cloetta, LRABAR, Bobo's Oat Bars, Sugar Babies, Entrees to Excellence, Entenmann's, Sunbeam, Nescafe Taster's Choice, Monster Energy, Vosges Haut-Chocolat, Bionaturae, Seltzer's, International Collection, Justin's, Hartleys, Aleia's, Caribou Coffee, Skyline Chili, Lakewood Organic, Morinaga, RONZONI, Folgers Simply Smooth, Lee Kum Kee, Jack Daniel's, Spice Islands, 3 Musketeers, First Endurance, STELLA D'ORO, SEAS GIFT, Frank's RedHot, DAGOBA, Morton, Starbucks, Sezme, AUTHENTIC MENU, Cucina & Amore, Florida's Natural, Blue Lily Organics, KRAVE, Cool Whip, Werther's, Cardini's, Jamestown Brand, F.M. BROWN'S, Beigel & Beigel, MR Q CUMBER, Duck hand, Cachet, Wickles, Paesana, Alvita, Antica Dolceria Rizza, Ajika, Skinny Crisps, Hillshire Farm, Kellogg's Fruity Snacks, Act II, Alvarado, Summit Tea Company, C & S Products, Philippine Dried Mangoes, Candy Crate, ZonePerfect, Academia Barilla, Beaver Brand, Once Again, BobaStore, Diet Dr Pepper, Bacon Mamma Jamma, Date Lady, PIERRE, Crofters, WILD FRIENDS, Walnut Acres, Green and Black's, Girard's Salad Dressings, Allgood Provisions, Ener-G Foods, Dole Fruit Bowls, ROLD GOLD, Gift Express, Big Red, TURTLES, Chase's, Justin'sï¿½ï¿½ï¿½, Head Country, Health Garden, Cutter, Persil, Heath, Ginny Bakes, Orville Redenbacherâ€™s, Fresh Express, Quaker, Spice Appeal, Authentic Foods, Just Like Sugar, Organic Edamame, Junket, Seattle's Best Coffee, Fancy Feast, Sage Valley, Hall's Candies, Stephen's, Whole Earth Sweeteners, Kaboom, Topo Chico, Sadaf, DANONINO, La Suissa, Friskies, Mm's, Wiley Wallaby Candy (Grocery), Pacific Resources Mossops, Smartfood, Naked Juice, Starburst and Skittles, Home Brew Stuff, Joy, Giuliano Foods, Combos, Arbuckle's, Smith Teamaker, Gourmet Paleo, HEINZ, Sandwich Maker, Goodhealth, Setton Farms, Wellaby's, GARDETTOS, Lays, Volpi, Carrs, Brownwood Acres, Oreo, Truvia, La Valletta, Azumaya, Pocono, Kemps, 3 Ballerina Tea, Skeeter Nut Free, Arnold, Sahale Snacks, Wonderful Pistachios, Epicurean, Grapeola, Jarritos, Faultless, Dynasty, Ikeshima, McCormick Culinary, Go Veggie, Jardine's 7J Ranch, Yock-A-Mein, Inca Kola, Rick's Picks, Tender Grown Crisps, Smart Food, Eclipse Gum, Washburn Mills, St. Dalfour, Thai Kitchen, Arm Hammer, Sobe Lifewater, Brookside, bionaturae, Lady Walton's, Moon Cheese, Thank You Tins, Manitoba Harvest, Primal Kitchen, Sun Earth, Yachad Gifts, Crunch Master, ALO, John Morrell, Snapple, Nilla, Peak, PapaNicholas Coffee, Women's Bean Project, Al Dente Pasta, Creme Savers, Gus Sclafani Fine Italian Imports, Katz Gluten Free, Deli Fresh, Appel, Stagg, International Delight, Olde Thompson, Dare Foods, Green Black, Sweetleaf, Mario, Pebbles, BARBARA'S, Baby Ruth, Xyla, Walkers, Apple Jacks, Kernel Season's, Nielsen-Massey, Ronzoni, Dinty Moore, Tamura noodle, La Cena, Simply Asia, Greater Than, SunButter, Aura, Golden Mountain, Hammond's Candies, Diet Mtn Dew, Turkey Hill, Italian Volcano, Stony Acres Maple Farm, Ferrara Pan, Maitre Truffout, Dean Jacob's, Ronzoni Smart Taste, Teddy Grahams, Chiclets, Columbus, Carolina Pride, Barcel, Trans-Ocean Products, Murry's, Honey Bunches Of Oats, Real Foods, Albanese Confectionery, JFC, Mediterranean Snacks, Julia's Southern Magnolia, Annie's, Marou Fine Chocolate, Krispy Kreme Doughnuts, Yogourmet, Chunky, Fisher, Brown Haley, Foreign Candy Company, Renfro Fine Foods, Dr Pepper, Danisco, Foodkoncept, Zero Gravity Hawaii, Great River Organic Milling, Captain's Wafers, Barbaras Bakery, Resource, Newmans Own Organics, Fermin, Sugar In The Raw, Peace, RC COLA, Rocky Mountain Popcorn Company, Superior Nut Company, Aleia's Gluten Free Foods, Urbani, Capalbo's Gift Baskets, Coors Light, Numi Tea, Frosted Flakes, Butternut, Sour Power, The Tao of Tea, NATURE&APOS;S PATH, Mini Pops, Creminelli, Milka, Glico, Freschetta, Nectav, Gilway, Kirkland Signature, Kasugai, Traverse Bay Confections, Skor, Hancock Gourmet Lobster Company, Divine Chocolate, Kracie, Inglehoffer, Smuckers, Paldo, Fabbri, Kanokwan, Big Tree Farms, Wasa, Molson Golden, Hain Pure Foods, M&M'S, Bubble Yum, M"
     ]
    },
    {
     "name": "stdout",
     "output_type": "stream",
     "text": [
      "IYASAKA JOZO USA INC, INTERNATIONAL C, Gerrit J. Verburg Co., AVK, Sun of Italy, SueBee, Miura food, Mo's Fudge Factor, Kitchens Of India, Mori-Nu, Bb, Colgin, Tasty Superfoods, Nos, Sour Punch, Christine Le Tennier, Master of Mixes, Dorset Cereals, Glee Gum, Wholesome Goodness, Musselman's, Hawaiian Punch, Bays, ODOMS, Weber's, Eight O'Clock, Wedel, PALACIOS, Pure Premium, Otto's Naturals, Bolthouse, Geisha, Margaritaville, WelPac, Mini Babybel, Royal Hawaiian Orchards, Budweiser, SMARTFOOD, Vita Coco, Austin, Dulces Vero, Crisco, Altoids Strong Peppermint Candy, Whitman's, All-Bran, Feldkamp, Amy's, Lance, Le Saunier De Camargue, Nancy's (Springfield Creamery), Bergen Marzipan, Better Than Bouillon, Old Wessex Ltd., Ari Global, Jelly Belly, SPECTRUM NATURALS, Pibb, Odwalla, Nuggets, Taylor & Colledge, A Taste of India, Bellagio, SPAM, Bolthouse Farms, Diet Pepsi, Ruby Kist, Gibb, UNFI (Honest Green), Sweet N Low, O-Ke-Doke, Yogi, PowerBar, Met-RX, Daelmans, Woebers Mustard, El Mexicano, Old Plantation, Gefen, Natural Light, Mamba, Betty Crocker, Natural Ice, VANS NATURAL FOODS, Charles Jacquin-St.Dalfour, Simple Mills, Dirty Potato Chips, Nescaf, The Good Bean, Coles, Botan, Sobe, The Bakery at Walmart, MaruSakae milling, Oh My, Life Savers, JA Otofuke, Jalpur Millers, Glutino, Nestle, Orbit, Milton Industries, Allegro, El Pico, Telma, La Nouba, Fiji Water, Health Valley, BioTree Naturals, Rice-A-Roni, Cheetos, Oroweat, Ovaltine, Itsumo, Colman's, Nana's, Gold Peak, Sans Sucre, Cornaby's, Coronita Extra, Lindon Farms, Air Heads, Vanilla Products USA, That's It, Echo Falls, PUROAST, L.b. Jamisons, Yuban, Wal Mart, Nohmad Snack Co, UJIDO, Kraft Brand Dressing, Once Again Nut Butter, Dr. Oetker, Maximum International, MAUNA LOA, Royal Dnask, Fiber One, Treasure Journeys, Ritz, Double Donut, Flahavans, Imperial Organic, Nathan's, Yajua Candies, Inc., Healthy Choice, Paskesz, Hamburger Helper, Produce Partners, Spice Island, LifeSavers, McFadden Farm, Francesco Rinaldi, Date Lady Date Syrup, Purina Kit & Kaboodle, McCann's, Kraft Miracle Whip, MARTINELLI'S GOLD MEDALÂ®, Pirouline, Barry's Tea, White Rabbit, Orlando, Zuko, Wai Lana, Robert Rothschild Farm, NALLEYS, Badia a Coltibuono, Johnsonville, Geeta's, Treasured Harvest, Stacys, Duncan Hines, Veggie-Go's, Fisho, East Asia food, Squirt, Cisse Cocoa Co, Namaste Foods, TastefulTreats.com, GODIVA Chocolatier, DEL MONTE, Jocko White Tea, Bigelow Tea, Mahatma, Happy Belly, Weleda, Stash, Touch of Europe, Al Fresco, REV, Martinelli's, Hormel, Fondo di Toscana, UTZ, Summerdown Pure Mint, Mott's, Melissa's, Russell Stover, Fruit Roll-Ups, Olivado, Big Train, Ragu, Herb-Ox, Gourmet Center, PARADISE, Verweij, Terra Chips, Hi Mountain, PLAZA PROVISION, Southside Market, DRAKE S, Juicy Fruit, Aw, Napoleon, Atkinson's, RANCHO ZABACO, Bhuja, Breath Savers, Minute Maid, DAISHO, Harvest2000, Chebe, Halls, Sensibly Seasoned, DORITOS, Maiya's, CVS Gold Emblem, Community Coffee, Destrooper, Maxim's Paris, Munchies, Volvic, Annie's Homegrown, Cap'n Crunch, KIND NUTS & SPICES, kikkoman, Walkers Shortbread, The Gracious Gourmet, Frontier, Hunt's, GABAN (Gabin), NIPS, Ocean Spray, Ty Ling, Poland Spring, Baycliff, Bio Coffee, Vegemite, MyPooch, Wilderness Family Naturals, HIGH LIFE, CID Botanicals Stevia, Baby Mum-Mum, Tamicon, Ghost Foods, Candy Creek Lollipops, Gerber Graduates, Newman's Own Organics, Heavenly Tea Leaves, Hafner, Calbee, Cafix, NOW Foods, Joseph's, Kitchfix, Tones, LeilaLove Macarons, Honey Maid, Mama, 18 Rabbits, Roland, HARIBO, Frontier Soups, barkTHINS, Florence, Teeccino, Nips, Mazola, BHUJA, Totally Light, Rice Select, SIMPLY DRESSED, Solo, 5-hour Energy, Harmony House Foods, Honest Tea, Bob's, MAPLE GROVE, Quaker Oatmeal, Lily's Chocolate, Norsland Lefse, Lawry's, Necco, Chicken in a Biskit, Bell & Gossett, MUG Root Beer, Tic Tac, Loc Maria, Bear Naked, Glutenfreeda, Andrew & Everett, Ken's Steak House, CHEF-MATE, Gold Emblem, Bookbinder's, Cedar's, Bertolli, Monin, NuGo, Nutri-Grain, 479 Degrees, Desert Gardens, Saag's, Coors, Little Debbie, Dell'Alpe, JIF, Shan, Total, Yorkshire, Masterfoods, Mexene, Red Fork, Allen Canning Company, DROSTE, Organic Coffee Company, Otis Spunkmeyer, Skeeter Snacks, Salazon Chocolate Co., Zveet, Sunsweet, Dum Dum, Diet Rite, Nakano, Preferred Popcorn, Vic's, Absolutely Gluten Free, Wise Company, Lindor, SENSIBLE PORTIO, Advantus, Philadelphia, Mr Kooks, Ring POP, Pop Art Snacks, Espeez, Reser's, Stirrings, Sleep Revolution, Chef Cherie, Great American Popcorn Company, Wright's, JRMushroomsAndSpecialties, Bakers Batch, Van Slooten, Don Franciscos, Bali's Best, Lucy's, Deja Blue, Green Mountain Coffee, Maille, Marys Gone Crackers, Reeses, Southeastern Mills, Organic Planet, Shortbread House of Edinburgh, Eckrich, Tony Chachere's, Toffifee, Lï¿½ï¿½RABAR, Black Garlic North America, Mocafe, GO Raw, XyloBurst, Kuner's of Colorado, Hari Crunchy, Clorox, Eight O'clock, Extra, Simplify, Mtn Dew, Protidiet, Fuzzy Ducks, Chow, Entertainment Retail Enter, Pop Weaver, Toyo Suisan, PB CRAVE, Golden Grahams, Tillamook, SweetLeaf, Heartland Brands, Old Wisconsin, Amafruits, Kodiak Cakes, Pelon Pelo Rico, Jumex, EXIR, Starburst, Coronado, Conte's, Sweet's, HOWE, Guayaki, Dippin' Stix, Dannon, Conservas de Cambados, Ball Park, Huy Fong, Life, Carbonell, Purina ALPO Treats, Carolina Gold Nuggets, Unique Bargains, Racconto, Theo Chocolate, Amazing Grass, Oven Cravers, Nalley, Twix, Kozy Shack, Tealixir Herbal Kombucha, Italian Coffee, OliveNation, Live Strong Live Long, First Colony, R. W. Garcia, Grandma Maud's, GERBER ORGANIC 2ND FOODS, Roman Meal, WARHEADS, Almond Joy, OTC, Ion, Boomchickapop, Maple Grove Farms of Vermont, Necta Sweet, Koh-Kae, Partners, BetterFoods, Organic Stores, Del Monte, Back to the Roots, Dell, Big Bob Gibson, Red Plate Foods, Uncle Henry's Pretzel Bakery, Sleepytime, Kadoya, UNIQUE PRETZEL, Grinds Coffee Pouches, St Michel, RUFFLES, Kibbles 'n Bits, Campbells, Ecce Panis, Bavarian Breads, Vault, Woolite, WEST SOY, La Banderita, Keurig, Franz, Thatcher's Gourmet Specialties, Deer Park, Taste of Thai, Pure Leaf, PERDUE FARMS, Nature's Kick, COORS BANQUET, Artisana, Inko's, TRADITIONAL MEDICINALS, Pastene, Morton's, Foods Alive, Pez Candy, Green & Black's Organic, The Pistachio Factory, Disney, Pez, El Navarrico, Mitica, Pearson's, Tennessee Pride, MemorySweets, Mixed, Busch, Olde Naples Chocolate, Yan Yan, Kiva Health Food, Hersheys Cadbury, Sun-Maid, Harper's, Bragg, Sabrett, York, Mamma Chia, Girard's, A&W, Sprite Zero, Manner, Mayfair, Breakstone's, Divina, Sweetriot, Vitamin Water, Pastai Gragnanesi, Dang foods LLC., Sweet Imports, New Grains Gluten Free Bakery, Bounty, Pure Via, Blue Diamond, Peeps, Once Again Nut Butters, Carrington Tea, Sharawi, Nice, Durkee, Fla-Vor-Ice, Hood, Mediterranean Organic, Fox's, RICE KRISPIES, Bisto, Pop'd Kerns, milkmakers, Celestial Seasonings, Simply Beverages, Post, Colombiana - La Nuestra, Terrasoul Superfoods, Sunbelt, Ortega, Wise, Xlear, Mate Factor, ICE BREAKERS, La Victoria, One Degree Organic Foods, Long Life, Chosen Roaster, Stash Tea, S&B, Organic Traditions, Ritter, Nature Botanical Farms, Dogswell, San Francisco Bay Coffee, Ecco Domani, Madelaine Chocolate Company, Voortman, Polaner All Fruit, Armour Vienna Sausages BBQ Flavor, House Foods, Buitoni, Rothbury Farms, French Boursin, BRAND DANNON CLASSIC, Corn Pops, Rhythm, Imagine, Guerrero, Malt-O-Meal, Sweet's Candy Company, Mother Earth Products, Girards, Hi Mountain Jerky, Cinnamon Toast Crunch, Rub with Love, More Than Gourmet, Tanka Bar, Virginia Diner, Ranchero, Sun Flour Baking Company, Nestle Pure Life, Vosges Haut, Mission, Kanesu, Tiny Footprint Coffee, Dr. John's Candies, Stonyfield Farm, Brazilian Coffee Candy, Cherrybrook Kitchen, PEZ, Ronald Reginald's, Aunt Jemima, McCormick, Looza, DEEP, Stivii, Pure Indian Foods, La Costena, Zevia, Hawaiian Gold, Grace, Chips Ahoy, Season Brand, Stroehmann, Philippine Brand, ThatS It, Warheads, UMF 15+, Chex Mix, Weber, El Rio, Pacific Natural Foods, KinniToos, Belgioioso, SAM MILLS, YANKEETRADERS, Jes, Gold Emblem Abound, Revels, ENSUENO, Tilex, Millstone, Fresca, Dum-dums, Beech-Nut, Super Bubble, Lea Perrins, GoBIO!, Kellogg's All-Bran, Taste of Nature, Chef Boyardee, Gerrit J. Verburg, Crystal Noodle, Garoto, Bare Fruit, VerMints, Celsius, LAND O LAKESÂ®, Guarantee Brand, Hans Freitag, Pamela's Products, Junior Mints, Frontera, Rimar, Healthy Life, By The Cup, Blk, Wardley, OUTSHINE, Natural Nectar, NESTEA, La Choy, Keystone, Hershey, Duff, Buffalo Bills Premium Snacks, Nutramedix, Oxi Clean, Dr Dry, Molson Canadian, Boursin, Schluckwerder, Darrell Lea, Brownberry, Panamei, NurturMe, Emerald Forest, SUGAR DADDY ITEMS, Mount Mansfield Maple Products, Maruchan, Lady Walton's Gourmet Cookies, Peeled Snacks, Simply Organic, Fm Brown's, Sonoran Spice, GIVENS GIFTING, Murray, BiAglut, Talbott Teas, Pennington, Suchard, Carr's, Weetabix, Kauffman's Fruit Farm, Superfruit, Mondelez International, Enjoy, Febreze, Gaea, Whole Earth, Wellness, Rosenborg, Schroeder Milk Co Inc, Vernors, Barnie's Coffee Kitchen, Gatorade, Kelloggs, Badia, Clamato, Urbane Grain, O'Doul's, SweetSue, Smooze, FRS, Terry"
     ]
    },
    {
     "name": "stdout",
     "output_type": "stream",
     "text": [
      " Ho's, Coffee Bean Direct, Cabot, Clif Bar, Kc Masterpiece, JELL-O, Artisan du Chocolat, Rani, Barbara's Bakery, Earth's Best, Pepsi, Viva Labs, D'Gari, Andean Dream, Krunchy Melts, SMART WATER, Original Gourmet, Mr. Yoshida's, Gorton's, SECHLERS, Unbranded, MELISSAS, Calissons by Gilles, Carnation, Belly Washers, Monterey Bay Spice Company, Taffy Town, Nielsen-Massey Vanilla, Divine, Pure Growth Organic Foods, Pasta-A-Roni, Placeholder, Jovial, HAPPY SQUEEZE, Patak's, Kind Healthy Grains, Yellow Tail, Shake 'n Bake, Asian Harvest, ARGO, Woeber's, Wild Bill's, Giorgio, Cascadian Farm Organic, OvaEasy, Best Foods, Jackson's Honest, Pringles, Orale!, Yoo-Hoo, Bayside Candy, Pirate Brands, Canarias, Barbara's Hand-Made Cookie Pies, Noh, Angostura, Kellogg's Raisin Bran, Marukome, Paleo People, ORGANIC INDIA, Drew's All Natural, SkinnyPop, Melinda's, Peace Iced Tea, Seitenbacher, WuFuYuan, Wan Ja Shan, Ken's, Season Product, Barbara's, Mike's, Roca, Luzianne, PB2, Organic Coffee, LA CROIX, THICK & EASY HYDROLYTE, Sea's Gift, ImportFood, Elite, One Organic, Glory Foods, Power Bar, leibniz, Ge Abound, Cole's, Navitas Naturals, Froot Loops, Just The Cheese, Hawaii Snacks, Native Forest, ProTings, Lars' Own, Domino Foods, FIBER D LISH, Earth Balance, Sprecher, Flavorganics, Prince Of Peace, Go Home, Dove Chocolate, Runa, Bellino, Excellence, CAJUN CLASSICS, Buddy Fruits, Bugles, Numi Organic Tea, Purity Ghee, Wrigley's, Schar, Fun Dip, Jack Links, The Food Doctor, Byrd's Famous Cookies, Mug, Swiss Premium, Zinke Orchards, FreshPak, Gold Mine, Grove Square Cappuccino, Emeril's, AlexMeat, Flavor God, Chips Deluxe, Lipton, Wheat Montana, The South Bend Chocolate Company, FIRST COLONY, Dryden Palmer, Vosges, Monini, Slim Jim, eSutras Organics, Earnest Eats, Redenbacher, Onion Crunch, Afrofood, Athenos, CHOW MEIN, KRAS, Alessi, Red Ape Cinnamon, Brazos River Provisions, Baker's Joy, Guayak Yerba Mate, Bigelow, Aroy-D, Organicville, Hippeas Organic Chickpea Puffs, Kellogg's Rice Krispies, Viva Naturals, Chocolate Embajador, Celifbr, Familia, CandyMax, Planters, Triscuit, GERBS, True Citrus, American Beauty, Furmano's, JJ Flats, Fruit Chillers, Three Bakers, Gopal's Healthfoods, RO*TEL, Snyders Of Hanover, Spectrum, Discount Herbals, Exclusively Dog Cookies, Great Northern Popcorn Company, Dasani DROPS, Camellia, TASSIMO, Better Than Foods, Pure Organic, Cup Noodles, Sassy Crackers, Anthony's Goods, Wedderspoon, FODY Food Co., Herdez, GERBER GRADUATES BITTY BITES, TLC, Simply Orange, Weight Watchers, Ferrero, 3M, Tone's, Imagine Foods, SeaBear, Dagoba, MELBA, 4C, COSMOS CREATIONS, Santa Barbara Olive Co., Krinos, Triple Leaf Tea, Success Rice, Cheribundi, Franks, TWIX, Ayurvedic Roast, Righteously Raw Chocolate, Mike and Ike, Food to Live, Cantreau, Sesmark, Garden of Eatin', Made In Nature, Yucatan, Blue Diamond Almonds, SnackWell's, Cultures for Health, Kettle, Golden Dipt, LOVELY, Pop-Tarts, PETER RABBIT, Monardo, Cento, Capt. Marriner's Seafood, Ka-Me, JR Unique Foods, Aloe Farm, San Pellegrino, Jessica's Natural Foods, Nature Valley, Lay's, The Ginger People, Stouffer's, WILEY WALLABY, Otsuka Foods, Green Mountain, Van's Simply Delicious, Swanson, Sechlers, WEL PAC, Koyo, Jiffy, Charms Blow Pops, Powerbar, Gustus Vitae, Taveners Proper Sweets, MarDona, Safe Catch, Desert Pepper Trading, Crosse & Blackwell, Stubb's, Nutritious Living, Beach Cliff, Kraepelien Holm, Spry, Organic Gemini, Da Vinci, Tassimo, Lundberg, KC Masterpiece, Gamesa, Giovanni's, illy, Raisin Nut Bran, Bazooka, Beer Nuts, Andersens, Corn Nuts, Barry's Bakery, CocoBacon, WALMART SEAFOOD, Brad's Raw foods, John Wm. Macy, Black Jewell Popcorn, Pop Secret, V8, Golden Saffron, Japan EPICBOX, Sara Lee, DEJA BLUE, Surf Sweets, American Almond, Fruit Shapes, Wind Willow, John Soules Foods, Blair's, Custom Culinary, Choice Organic, Celtic Sea Salt, Girl Scouts, Not Ketchup, Citrus Magic, Hottie Biscotti, Dasani, ECOTEAS, Meadow Gold, Health King Balanceuticals Group, Wyler's, Hero, Ostrovitsky Bakery, Equal Exchange, Kit Kat, Barratt, Let's do...Organic, Dr. Brown's, Pom Wonderful, Stacy's Brand, DELLALO, BulletProof, Cholula, Ritter Sport, Caveman Cookies, EAS, Nature's Earthly Choice, Santa Barbara Bar, Frontier Herb, Real Medleys, Makiz Lebanese Food Products, Paleo Meals To Go, Best Maid, Dalmatia, Annie Chun's, Boulder, DeLallo, Cafe Bustelo, Dulcet Gift Baskets, Chimes, Jim's Cheese Pantry, Inc., Inaba peanut, Rokeach, Wholespice, Butterball, Polaner, Lady Fortunes, MIKEE, Snack Pack, Specialty Extracts, HURRICANE HIGH GRAVITY, Cook's, Cheerwine, Fruit By The Foot, IAMS, Emerald, Jyoti Natural Foods, Klass, Manuka Health, Triple Leaf, Orbit Gum, Sugar in the Raw, Spice Hunter, KENT PRECISION FOODS GROUP INC, Harney Sons, Yehuda, Feel Good Organics, Alter Eco, Top Ramen, Olde Cape Cod, Coco Lopez, Coconut Tea, True North, Gary Poppins Artisan Popcorn, Fruit Gushers, Chicken of the Sea, Twin, HEARTLAND, Sun Maid, Udis Gluten Free Foods, Broadway Basketeers, SucraDrops, Kind, Coconut Secret, Josï¿½ï¿½ Olï¿½ï¿½, Giddy Up, Melitta, Don Francisco, Ancient Organics, Wonderful, Pampers, Fresh Roasted Coffee, Gold's, AriZona, Smart Sweet, PYURE, Bonus Blend, WOW Baking Company, V8 Juice, Alpen, The Nutty Fruit House, McIlhenny Farms, Grama's, Inc., Modernist Pantry, Medagila D'oro, Cadbury, Bob Evans, Aloha Island Coffee, Dark Chocolate Dream, HPSEpicurean, TABASCO brand, Coco, Pasta Riso, Lindt and Sprungli, Olay, Cracker Jack, Pommery, PG Tips, Chilli Man, Soy Vay, Brothers-ALL-Natural, Sweet Baby Ray's, Garlic Gold, Epic Dental, Dandies, White Wings, truRoots, Oskri, Pacific, 100 Grand, Natures Way, Jell-O, Sunshine, Gift Basket Dropshipping, Perla Pacifica, Lotte, Gevalia, Prego, Bluebird Grain Farms, Martinson Coffee, MODENACETI, Reese's, Maple Grove Farms, Heide Candies, Ferrara Candy Company, Argo, Fresh Gourmet, ALPO, Tim Hortons, Mario Camacho, Pet Central, Sugarless Shop, Kenwood, Gateway, YumEarth, La Croix, Audubon Park, Crystal Light, Smithfield Anytime, Premium Gold, Dubble Bubble, Amish Kitchens, Rot Front, Back To Nature, DASANI, Annie's Naturals, SoBe, Stacy's Snacks, Fluff, Casbah, Snackwell's, Child's Play, Home Basics, Swad, Saffron Road, Medley Hills Farm, Late July, Mr. & Mrs. T, PUR GUM, CONTINENTAL CONCESSION, King Soba, Just Born, Ikeya, Venco, Baken-Ets, Health Valley Organic, Jose Cuervo, Sigform, Nong Shim, Simon Coll, BEANFIELDS, Eight O'clock Coffee, Yulo Toys Inc, A Taste of Thai, Devonsheer, Hakuchudo, Nutrament, Activia Light, Slim-Fast, Nabisco 100 Calorie Packs, Tates Bake Shop, De Cecco, Modelo Especial, Classico, Kashi, Jarrow Formulas, Let's Do Organic, Folgers, NATURE VALLEY, Indian Summer, Gatherer's Gourmet Granola, Black Label, WAY BETTER SNACKS, Indulgence, Sabra, Hickory Farms, The Popcorn Colonel, Donchels, French's, Muntons, Scotch-Brite, Earthbound, KUNERS, Smokehouse Aries, Zhena's Gypsy Tea, GaneshaSpice, Cocomama Foods, Winterfresh, Tamanishiki, The Coffee Bean, BANQUET (BQ), Reser's Fine Foods, Bauducco, Baby Bottle Pop, GuavaDNA, MM's, Epic, Daddy Hinkle's, Brex America, Donne Del Grano, Sushi Chef, Thinkbaby, Alyssa's Cookies, Casa Fiesta, Maryland, J. Skinner, La Fe, Corona Extra, Eboost, Joseph's Middle East Bakery, Old London, Gortons, Dixie Carb Counters, Nido, Silver Floss, Wholesale Health Connection, Coco-Roons, Archway, Mathew Walker, COCO LIBRE, Sweetworks, Sable & Rosenfeld, Seasons, NAKED JUICE, Hapi, Eggo, Skippy, McCafÃ©, Custom Variety Pack, Marutsune, JYOTi, Vlasic, Ready Brek, ORION, Vivani, Wheat Thins, Rowntree's, Gia Russa, Augason Farms, Mio, Black Forest, Wellington, Unknown, Ahlaska, Pacific Chai, POP ROCKS, Cucina Viva, Dry-Spice, Jolly Rancher, Samuel Adams, Honey Bunches of Oats, Bequet, CFF, Margaret Holmes, Creative Snacks, Air Wick, IBERIA FOODS CORP., Gimmee Jimmy's Cookies, Martha WhiteÂ®, Mezetta, Popped, Second Nature, FreshJax, Land O' Lakes, Martha White, Fruit by the Foot, Langers, Grace Foods, King's Hawaiian, CORN POPS, Bella, Hyleys, Paleo Baking Company, Air Scense, Yum Junkie, Our house cymene, Marabou - Free Shipping, Dole, Busha Brownes, Brooks, Canilla, Miracle Whip, Nielsen Massey, Hodgson Mill, Mello Yello, Black Jewell, Home Comforts, Monster Rehab, Next Organics, Naked, Burma Spice, Banquet Homestyle Bakes, SPARKLING ICE, Albanese, EO, Scharffen Berger, Big Tree, Dr Pepper Ten, Mrs. Dash, Torchbearer, Florida Herb House, Diamond, NIEDEREGGER MARZIPAN, AW, Go Raw, Eden, Straw Propeller Gourmet Foods, Candy Korner, Marinades, Just The Basics, Nutella, ANYTIZERS, Don Hyoe, Old El Paso, Diamond of California, Madhava Natural Sweeteners, Gundelsheim, Stella Doro, Peter Rabbit Organics, Windex, Rainbo, Hawaiian Host, Snyder's Of Hanover, La Preferida, GoNaturally, Almond Wonder, Bumble Bee, Maitre Jacques, Tootsie Roll, Miracle Fruit World, Tendergrass Farms, Fiordifrutta, Pinatas, King Arthur Flour, PURELY ELIZABETH, Wellbee's, Evian, Matcha Love, Mama Sita, Myungga gim, Endangered Species, Jane's Krazy, KSC, DiGiorno, SNACKIMALS CEREAL, 3r Studios, DeBoles, Snow's, V8 Splash, Tenda-Bake, Jennie-O, Ltd. Sunflower general food, Lunchables, Salada Tea, SweetWorks, Excelsior, Bud Light, "
     ]
    },
    {
     "name": "stdout",
     "output_type": "stream",
     "text": [
      "Baker's, GG Scandinavian, Miss Meringue, Caffeine Free Diet Coke, Red Vines, Effie's Homemade, O-LIVE, Murray Cookies, Tyson, Newtons, Teddy Graham, Dentyne, NomNom Delights, Billy Bee, NESTLE HOT COCOA, Orville Redenbacher's, Rishi Tea, Grandma Utz's, Falim, Tully's Coffee, Penrose, Krispy Kreme, Mars Variety, Hartford Farms, Terra, President Cheese, Purina Fancy Feast, Stonyfield Organic, Barry\\\\'s, Golden Malted, Flavor Essence, Arizona, Field ï¿½ï¿½rï¿½ï¿½Men, MANGO, Dreyer's/Edy's, JND, Frenchs, Keiller, La Tourangelle, Signature Popcorn, Ventura Foods, Good Health Natural Foods, Pascha, Almondina, Blue Crab Bay Co., RESER'S CUT POTATOES, Grove Square, Loriva, WOEBER, Armour Eckrich, Fastachi, CVS/pharmacy, Mexican Vanilla, Louisiana, J&D's, Doublemint, Domaine de Provence, Candy Tech, Applegate, Vermints, Langnese, Charms, Trident Unwrapped, Imlak'esh Organics, Campbell's, COBBLESTONE, Marmite, Dr Mcdougalls, Vodka Enhancer, Swedish Fish, Gulden's, Unstopables, STEPHENS, St Roger Abbey's, SUPER SEEDZ, Cugino's, GIA, Quorn Foods, White Coffee, Kahlua, South Beach Diet, FERIDIES, Javazen, Santa Cruz Organic, Food Should Taste Good, ROCKSTAR, Molino Antimo Caputo Napoli, K.L. Keller, Funky Monkey, Blair's Ultra Death Sauce, Silver Cloud Estates, Goya, Tates, VitaFiber IMO, Lifesavers Candy, Farm Fresh Nuts, TOFFIFAY, M M's, COOMBS FAMILY FARMS, HIGUERAL, Bob's Red Mill, Stretch Island, S C Johnson Wax, EarthGrains, Manzanita Sol, Celebration Herbals, MODELO ESPECIAL, Snappy Popcorn, Ice Breakers, FERRERO, Milky Way, Azteca, d-CON, EXTREME!, JEL SERT CO., NUTS U.S., Farley's Sathers, GroceryLand, Bright Beginnings, LOVE GROWN, Crunchmaster, Luna Bar, SWERVE, Klondike, TABASCO, Alvarado Street Bakery, Rapunzel, Paradise, Glenny's, Frito-Lay, The Republic of Tea, Johnny's, Katjes, Rawsome, The Bean Coffee Company, Velveeta, EKOCUPS, Rx Vitamins For Pets, Arrowhead Mills, Pennsylvania Dutch, Ambrosia, Ethical Bean Coffee, Squirrel Brand, Toda Hisashi, Farm Rich, FRITOS, Pastificio Faella, Sugus, Maurizio, Henry Weinhard's Soda, Natures Formulary, Scrubbing Bubbles, Sprite, Diet Barq's, Casa Gift Packs, Chikara, Campana, Mulberry Lane Farms, Marie Callender's, Crystal, Doctor Kracker, Smart Balance, Gratify, Tabasco, Keebler, Hungry-Man, Nick's Sticks, Kii Naturals, Clif Bloks, Edwards, The Republic Of Tea, Cafe Bistro, Pepperidge Farm, Shine Organics, Fat Fuel Company, Pioneer Brand, Gourmet du Village, Benedicta, Al Wadi, RawNori, John and Kira's Chocolate, Mighty Leaf Tea, The Bay Tree Food Co., The Original Donut Shop, Coco Wheats, Swiss Miss, Plum Organics, The Nuttery NY, Alaska's Best, WhoNu?, Brach's, Duck Kawate total Somen, Puroast Low Acid Coffee, Karen's Naturals, CARB-O-LICIOUS, Hellmann's, McVitie's, L.R. Rice, Wrigley, Endless Kombucha Kit, LC-Foods, Wilderness Poets, Pamela's, Country Crock, Dream Whip, Navitas Organics, Peet's, Miko, Now Later, Equal, Whoppers, Xochitl, Blue Runner Foods, Club, Pepsico, NestlÃ©, We Got Nuts, Heartland, Bush's, Cameron's, Gabriella Chocolates Confections, LÃ„RABAR, The Peanut Shop of Williamsburg, PURE PREMIUM, Timothy's World Coffee, Cape Cod, FRENCHS, Uncle Lee's Tea, Dickinson's, thinkThin, Souper Meal, Rhino, Wack-O-Wax, Tastykake, MARUTAI, Gourmet Recipe, Spectracide, Good Plenty, Zing Bars, dickinson, Simply Sweet Times, Oregon, Butternut Mountain Farms, Wine Country Gift Baskets, Cocomels, Muir Glen, Koon Chun, The Granola King, Green Giant, DENTYNE ICE, Rold Gold, Stauffer's, Gold Medal, Vienna, White House, ANDER PURE, Downy, JOYVA, American Licorice, Golden State Fruit, Gille, BetterBody Foods, Stevia, Miwa Somen Konishi, Naleczowianka, Healthy Snacks, Hachez, Williams, Fatworks Foods, Sam Mills, popchips, Coffee-Mate, Cafe Altura, Barkthins, lker, Stevita, Doritos, Black Tie Mercantile, Artisan Tropic, Pop-tarts, Corn Chex, GO ORGANIC, Hanover, Festival, Cheez-it, Taste Nirvana, Redmond, Rachael Ray Stock-In-A-Box, Kizandy, MW Polar, M & M's, GODIVA, Morning Pep, Sour Patch, Healthworks, Island Snacks, LonoLife, Nerds, Pasta Partners, Pipoca Popcorn, Reese, Wow Baking, DecoPro, Philippine, Napa Valley Naturals, B-Amazing Foods, Betty Lou's, Aquafina, Woodstock, BSG HandCraft, Joyva, Bakery On Main, Inaniwa Korai-do, GRATIFY, Backwoods, Tom Jenny's Candy, TruJoy, DaVinci Baby, Namaste, Hain)\n"
     ]
    },
    {
     "data": {
      "text/plain": [
       "\u001b[36mdiferent\u001b[39m: \u001b[32mMap\u001b[39m[\u001b[32mString\u001b[39m, \u001b[32mList\u001b[39m[\u001b[32mAmostra\u001b[39m]] = \u001b[33mMap\u001b[39m(\n",
       "  \u001b[32m\"ChocZero\"\u001b[39m -> \u001b[33mList\u001b[39m(\n",
       "    $sess.cmd0Wrapper$Helper$Amostra@384e76cb,\n",
       "    $sess.cmd0Wrapper$Helper$Amostra@476ac737,\n",
       "    $sess.cmd0Wrapper$Helper$Amostra@4a072ea6,\n",
       "    $sess.cmd0Wrapper$Helper$Amostra@2482d142,\n",
       "    $sess.cmd0Wrapper$Helper$Amostra@6fb10337,\n",
       "    $sess.cmd0Wrapper$Helper$Amostra@7e733289,\n",
       "    $sess.cmd0Wrapper$Helper$Amostra@df251ff\n",
       "  ),\n",
       "  \u001b[32m\"Fudge Shoppe\"\u001b[39m -> \u001b[33mList\u001b[39m(\n",
       "    $sess.cmd0Wrapper$Helper$Amostra@3fc889c2,\n",
       "\u001b[33m...\u001b[39m"
      ]
     },
     "execution_count": 3,
     "metadata": {},
     "output_type": "execute_result"
    }
   ],
   "source": [
    "var diferent = dataset.groupBy(_.dataset(\"brand\"))\n",
    "println(diferent.keySet.toList.length)\n",
    "println(diferent.keySet)"
   ]
  },
  {
   "cell_type": "markdown",
   "metadata": {},
   "source": [
    "### 2 - Quais as marcas que aparecem mais no dataset? Quais aparecem menos?"
   ]
  },
  {
   "cell_type": "code",
   "execution_count": 4,
   "metadata": {},
   "outputs": [
    {
     "name": "stdout",
     "output_type": "stream",
     "text": [
      "WarHeads\n",
      "Goya Food\n"
     ]
    }
   ],
   "source": [
    "\n",
    "println(diferent.toList.filter(_._1 != \"\").sortBy(_._2.length).head._1)\n",
    "println(diferent.toList.filter(_._1 != \"\").sortBy(-_._2.length).head._1)"
   ]
  },
  {
   "cell_type": "markdown",
   "metadata": {},
   "source": [
    "### 3 - Compute a média e desvio padrão da frequência das marcas de produtos"
   ]
  },
  {
   "cell_type": "code",
   "execution_count": 5,
   "metadata": {},
   "outputs": [
    {
     "data": {
      "text/plain": [
       "\u001b[32mimport \u001b[39m\u001b[36mMath.pow\n",
       "\u001b[39m\n",
       "\u001b[36msoma\u001b[39m: \u001b[32mInt\u001b[39m = \u001b[32m9114\u001b[39m\n",
       "\u001b[36mmedia\u001b[39m: \u001b[32mDouble\u001b[39m = \u001b[32m2.898854961832061\u001b[39m\n",
       "\u001b[36mdesvio\u001b[39m: \u001b[32mDouble\u001b[39m = \u001b[32m94125.43251777384\u001b[39m\n",
       "\u001b[36mdesvio_padrao\u001b[39m: \u001b[32mDouble\u001b[39m = \u001b[32m306.7986840222328\u001b[39m"
      ]
     },
     "execution_count": 5,
     "metadata": {},
     "output_type": "execute_result"
    }
   ],
   "source": [
    "import Math.pow\n",
    "val soma = diferent.toList.filter(_._1 != \"\").foldLeft(0)(_+_._2.length)\n",
    "\n",
    "val media = soma.toDouble / diferent.keySet.toList.length\n",
    "\n",
    "var desvio = 0.0\n",
    "\n",
    "for( i <- diferent.toList.filter(_._1 != \"\") ){\n",
    "    desvio += pow(i._2.length - media, 2)\n",
    "}\n",
    "val desvio_padrao = pow(desvio, 0.5)"
   ]
  },
  {
   "cell_type": "markdown",
   "metadata": {},
   "source": [
    "### 4 - Quais os ingredientes que aparecem nos produtos? Mostre quantos são, os que mais aparecem e os que menos aparecem."
   ]
  },
  {
   "cell_type": "code",
   "execution_count": 12,
   "metadata": {},
   "outputs": [
    {
     "data": {
      "text/plain": [
       "\u001b[32mimport \u001b[39m\u001b[36mscala.collection.mutable.ListBuffer\u001b[39m"
      ]
     },
     "execution_count": 12,
     "metadata": {},
     "output_type": "execute_result"
    }
   ],
   "source": [
    "import scala.collection.mutable.ListBuffer"
   ]
  },
  {
   "cell_type": "code",
   "execution_count": 13,
   "metadata": {},
   "outputs": [
    {
     "data": {
      "text/plain": [
       "defined \u001b[32mfunction\u001b[39m \u001b[36mcontador\u001b[39m"
      ]
     },
     "execution_count": 13,
     "metadata": {},
     "output_type": "execute_result"
    }
   ],
   "source": [
    "def contador(ingredientes: List[String]): List[ (String, Int) ] = {\n",
    "    \n",
    "    var resposta: ListBuffer[ (String, Int) ] = new ListBuffer[ (String, Int) ]()\n",
    "\n",
    "    for(i <- ingredientes){\n",
    "        \n",
    "        var soma = 0\n",
    "        \n",
    "        for(j <- ingredientes){\n",
    "            if(i == j) soma += 1\n",
    "        }\n",
    "        \n",
    "        resposta += ((i, soma))\n",
    "    }\n",
    "    \n",
    "    resposta.toList\n",
    "}\n"
   ]
  },
  {
   "cell_type": "code",
   "execution_count": 26,
   "metadata": {},
   "outputs": [
    {
     "data": {
      "text/plain": [
       "\u001b[36mds\u001b[39m: \u001b[32mList\u001b[39m[\u001b[32mAmostra\u001b[39m] = \u001b[33mList\u001b[39m(\n",
       "  $sess.cmd0Wrapper$Helper$Amostra@2f11e8c1,\n",
       "  $sess.cmd0Wrapper$Helper$Amostra@3a917116,\n",
       "  $sess.cmd0Wrapper$Helper$Amostra@13d4c7c0,\n",
       "  $sess.cmd0Wrapper$Helper$Amostra@5b61ce6d,\n",
       "  $sess.cmd0Wrapper$Helper$Amostra@7b966220,\n",
       "  $sess.cmd0Wrapper$Helper$Amostra@4a3eb585,\n",
       "  $sess.cmd0Wrapper$Helper$Amostra@7f6181c5,\n",
       "  $sess.cmd0Wrapper$Helper$Amostra@2aa63ae2,\n",
       "  $sess.cmd0Wrapper$Helper$Amostra@62e9caf4,\n",
       "  $sess.cmd0Wrapper$Helper$Amostra@5d44c9b1,\n",
       "  $sess.cmd0Wrapper$Helper$Amostra@2e580475,\n",
       "\u001b[33m...\u001b[39m\n",
       "\u001b[36mingredientes\u001b[39m: \u001b[32mListBuffer\u001b[39m[\u001b[32mString\u001b[39m] = \u001b[33mListBuffer\u001b[39m(\n",
       "  \u001b[32m\"dried prunes\"\u001b[39m,\n",
       "  \u001b[32m\"water\"\u001b[39m,\n",
       "  \u001b[32m\"corn syrup\"\u001b[39m,\n",
       "  \u001b[32m\"sugar\"\u001b[39m,\n",
       "  \u001b[32m\"pectin.\"\u001b[39m,\n",
       "  \u001b[32m\"salt\"\u001b[39m,\n",
       "  \u001b[32m\"sugar\"\u001b[39m,\n",
       "  \u001b[32m\"molasses refinery syrup\"\u001b[39m,\n",
       "  \u001b[32m\" molasses\"\u001b[39m,\n",
       "  \u001b[32m\" caramel color\"\u001b[39m,\n",
       "  \u001b[32m\"spices including black pepper\"\u001b[39m,\n",
       "\u001b[33m...\u001b[39m"
      ]
     },
     "execution_count": 26,
     "metadata": {},
     "output_type": "execute_result"
    }
   ],
   "source": [
    "val ds = dataset.filter(_.dataset(\"brand\") != \"\").filter(_.dataset(\"features.value\") != \"\")\n",
    "\n",
    "var ingredientes: ListBuffer[String] = new ListBuffer[String]()\n",
    "\n",
    "for( i <- ds){\n",
    "    \n",
    "    for (j <- i.dataset(\"features.value\").replace(\")\",\"\").replace(\"(\",\"\").toLowerCase.split(\",\").toList){\n",
    "        ingredientes += j\n",
    "    }\n",
    "}"
   ]
  },
  {
   "cell_type": "code",
   "execution_count": 29,
   "metadata": {},
   "outputs": [
    {
     "data": {
      "text/plain": [
       "\u001b[36magrupado\u001b[39m: \u001b[32mList\u001b[39m[(\u001b[32mString\u001b[39m, \u001b[32mInt\u001b[39m)] = \u001b[33mList\u001b[39m(\n",
       "  (\u001b[32m\"dried prunes\"\u001b[39m, \u001b[32m1\u001b[39m),\n",
       "  (\u001b[32m\"water\"\u001b[39m, \u001b[32m1870\u001b[39m),\n",
       "  (\u001b[32m\"corn syrup\"\u001b[39m, \u001b[32m958\u001b[39m),\n",
       "  (\u001b[32m\"sugar\"\u001b[39m, \u001b[32m2985\u001b[39m),\n",
       "  (\u001b[32m\"pectin.\"\u001b[39m, \u001b[32m8\u001b[39m),\n",
       "  (\u001b[32m\"salt\"\u001b[39m, \u001b[32m3037\u001b[39m),\n",
       "  (\u001b[32m\"sugar\"\u001b[39m, \u001b[32m2985\u001b[39m),\n",
       "  (\u001b[32m\"molasses refinery syrup\"\u001b[39m, \u001b[32m1\u001b[39m),\n",
       "  (\u001b[32m\" molasses\"\u001b[39m, \u001b[32m74\u001b[39m),\n",
       "  (\u001b[32m\" caramel color\"\u001b[39m, \u001b[32m124\u001b[39m),\n",
       "  (\u001b[32m\"spices including black pepper\"\u001b[39m, \u001b[32m5\u001b[39m),\n",
       "\u001b[33m...\u001b[39m"
      ]
     },
     "execution_count": 29,
     "metadata": {},
     "output_type": "execute_result"
    }
   ],
   "source": [
    "val agrupado = contador(ingredientes.toList)"
   ]
  },
  {
   "cell_type": "code",
   "execution_count": 30,
   "metadata": {},
   "outputs": [
    {
     "data": {
      "text/plain": [
       "\u001b[36mquantos\u001b[39m: \u001b[32mInt\u001b[39m = \u001b[32m28257\u001b[39m\n",
       "\u001b[36mmaior\u001b[39m: (\u001b[32mString\u001b[39m, \u001b[32mInt\u001b[39m) = (\u001b[32m\"salt\"\u001b[39m, \u001b[32m3037\u001b[39m)\n",
       "\u001b[36mmenor\u001b[39m: (\u001b[32mString\u001b[39m, \u001b[32mInt\u001b[39m) = (\u001b[32m\"dried prunes\"\u001b[39m, \u001b[32m1\u001b[39m)"
      ]
     },
     "execution_count": 30,
     "metadata": {},
     "output_type": "execute_result"
    }
   ],
   "source": [
    "val quantos = agrupado.distinct.length\n",
    "val maior = agrupado.maxBy(_._2)\n",
    "val menor = agrupado.minBy(_._2)"
   ]
  },
  {
   "cell_type": "markdown",
   "metadata": {},
   "source": [
    "### 5 - Compute a média e desvio padrão da frequência dos ingredientes"
   ]
  },
  {
   "cell_type": "code",
   "execution_count": 31,
   "metadata": {},
   "outputs": [
    {
     "data": {
      "text/plain": [
       "\u001b[36msoma\u001b[39m: \u001b[32mInt\u001b[39m = \u001b[32m42739920\u001b[39m\n",
       "\u001b[36mmedia\u001b[39m: \u001b[32mDouble\u001b[39m = \u001b[32m1512.5427327741797\u001b[39m\n",
       "\u001b[36mdesvio\u001b[39m: \u001b[32mDouble\u001b[39m = \u001b[32m2.5351988794088547E11\u001b[39m\n",
       "\u001b[36mdesvio_padrao\u001b[39m: \u001b[32mDouble\u001b[39m = \u001b[32m503507.58478982764\u001b[39m"
      ]
     },
     "execution_count": 31,
     "metadata": {},
     "output_type": "execute_result"
    }
   ],
   "source": [
    "val soma = agrupado.foldLeft(0)(_+_._2)\n",
    "\n",
    "val media = soma.toDouble / quantos\n",
    "\n",
    "var desvio = 0.0\n",
    "\n",
    "for( i <- agrupado ){\n",
    "    desvio += pow(i._2 - media, 2)\n",
    "}\n",
    "val desvio_padrao = pow(desvio, 0.5)"
   ]
  },
  {
   "cell_type": "markdown",
   "metadata": {},
   "source": [
    "### 6 - Quais os ingredientes mais usados por cada marca? E os menos usados?"
   ]
  },
  {
   "cell_type": "code",
   "execution_count": 32,
   "metadata": {},
   "outputs": [
    {
     "data": {
      "text/plain": [
       "\u001b[36mingredientes\u001b[39m: \u001b[32mList\u001b[39m[(\u001b[32mString\u001b[39m, \u001b[32mString\u001b[39m)] = \u001b[33mList\u001b[39m()\n",
       "\u001b[36mi\u001b[39m: \u001b[32mInt\u001b[39m = \u001b[32m0\u001b[39m\n",
       "\u001b[36mds\u001b[39m: \u001b[32mList\u001b[39m[\u001b[32mAmostra\u001b[39m] = \u001b[33mList\u001b[39m(\n",
       "  $sess.cmd0Wrapper$Helper$Amostra@2f11e8c1,\n",
       "  $sess.cmd0Wrapper$Helper$Amostra@3a917116,\n",
       "  $sess.cmd0Wrapper$Helper$Amostra@13d4c7c0,\n",
       "  $sess.cmd0Wrapper$Helper$Amostra@5b61ce6d,\n",
       "  $sess.cmd0Wrapper$Helper$Amostra@7b966220,\n",
       "  $sess.cmd0Wrapper$Helper$Amostra@4a3eb585,\n",
       "  $sess.cmd0Wrapper$Helper$Amostra@7f6181c5,\n",
       "  $sess.cmd0Wrapper$Helper$Amostra@2aa63ae2,\n",
       "  $sess.cmd0Wrapper$Helper$Amostra@62e9caf4,\n",
       "  $sess.cmd0Wrapper$Helper$Amostra@5d44c9b1,\n",
       "  $sess.cmd0Wrapper$Helper$Amostra@2e580475,\n",
       "\u001b[33m...\u001b[39m\n",
       "\u001b[36mmapeado\u001b[39m: \u001b[32mMap\u001b[39m[\u001b[32mString\u001b[39m, \u001b[32mList\u001b[39m[\u001b[32mString\u001b[39m]] = \u001b[33mMap\u001b[39m(\n",
       "  \u001b[32m\"ChocZero\"\u001b[39m -> \u001b[33mList\u001b[39m(\n",
       "    \u001b[32m\"dark chocolate unsweetened chocolate\"\u001b[39m,\n",
       "    \u001b[32m\" cocoa butter\"\u001b[39m,\n",
       "    \u001b[32m\" soluble corn fiber\"\u001b[39m,\n",
       "    \u001b[32m\" sunflower lecithin\"\u001b[39m,\n",
       "    \u001b[32m\" monk fruit extract\"\u001b[39m,\n",
       "    \u001b[32m\" madagascar bourbon vanilla beans. may contain milk\"\u001b[39m,\n",
       "    \u001b[32m\" wheat\"\u001b[39m,\n",
       "    \u001b[32m\" soy and nuts\"\u001b[39m,\n",
       "    \u001b[32m\"dark chocolate unsweetened chocolate\"\u001b[39m,\n",
       "    \u001b[32m\" cocoa butter\"\u001b[39m,\n",
       "\u001b[33m...\u001b[39m\n",
       "\u001b[36mmapa_de_valores\u001b[39m: \u001b[32mMap\u001b[39m[\u001b[32mString\u001b[39m, \u001b[32mList\u001b[39m[(\u001b[32mString\u001b[39m, \u001b[32mInt\u001b[39m)]] = \u001b[33mMap\u001b[39m(\n",
       "  \u001b[32m\"ChocZero\"\u001b[39m -> \u001b[33mList\u001b[39m(\n",
       "    (\u001b[32m\"dark chocolate unsweetened chocolate\"\u001b[39m, \u001b[32m9\u001b[39m),\n",
       "    (\u001b[32m\" cocoa butter\"\u001b[39m, \u001b[32m15\u001b[39m),\n",
       "    (\u001b[32m\" soluble corn fiber\"\u001b[39m, \u001b[32m7\u001b[39m),\n",
       "    (\u001b[32m\" sunflower lecithin\"\u001b[39m, \u001b[32m7\u001b[39m),\n",
       "    (\u001b[32m\" monk fruit extract\"\u001b[39m, \u001b[32m7\u001b[39m),\n",
       "    (\u001b[32m\" madagascar bourbon vanilla beans. may contain milk\"\u001b[39m, \u001b[32m5\u001b[39m),\n",
       "    (\u001b[32m\" wheat\"\u001b[39m, \u001b[32m5\u001b[39m),\n",
       "    (\u001b[32m\" soy and nuts\"\u001b[39m, \u001b[32m2\u001b[39m),\n",
       "    (\u001b[32m\"dark chocolate unsweetened chocolate\"\u001b[39m, \u001b[32m9\u001b[39m),\n",
       "    (\u001b[32m\" cocoa butter\"\u001b[39m, \u001b[32m15\u001b[39m),\n",
       "\u001b[33m...\u001b[39m\n",
       "defined \u001b[32mfunction\u001b[39m \u001b[36mexibirResposta5\u001b[39m"
      ]
     },
     "execution_count": 32,
     "metadata": {},
     "output_type": "execute_result"
    }
   ],
   "source": [
    "var ingredientes: List[ (String, String) ] = List()\n",
    "var i = 0\n",
    "val ds = dataset.filter(_.dataset(\"brand\") != \"\")\n",
    "// while( i < ds.length){\n",
    "//     val ingredientes_da_marca : Array[String] = ds(i).dataset(\"features.value\").split(\",\")\n",
    "//     val marca:String = ds(i).dataset(\"brand\")\n",
    "//     for( j <- ingredientes_da_marca){\n",
    "//         ingredientes = ingredientes ::: List( (marca, j) )\n",
    "//     }\n",
    "//     i += 1\n",
    "// }\n",
    "\n",
    "val mapeado = ds.flatMap(amostra => {\n",
    "    val marca = amostra.dataset(\"brand\")\n",
    "    amostra.dataset(\"features.value\").replace(\")\",\"\").replace(\"(\",\"\").toLowerCase.split(\",\").map(ingrediente => (marca,ingrediente))\n",
    "})\n",
    "//agrupando pela chave\n",
    ".groupBy(_._1) //Map((marca1 -> List((marca1, ingreditente1), (marca1, ingrediente2),...)))\n",
    "//mantendo apenas os ingredientes dos valores do mapa\n",
    ".mapValues(_.map(_._2))//Map((marca1 -> List(i1,i2,...)), (marca2 -> List(i1,i2,...)))\n",
    "\n",
    "\n",
    "\n",
    "var mapa_de_valores: Map[String, List[ (String, Int) ]] = Map()\n",
    "\n",
    "for(chave <- mapeado.keys){\n",
    "    mapa_de_valores += (chave -> contador(mapeado(chave)))\n",
    "}\n",
    "\n",
    "def exibirResposta5(mapa_de_valores: Map[String, List[ (String, Int) ]]) = {\n",
    "    for( chave <- mapa_de_valores.keys){\n",
    "        val maior = mapa_de_valores(chave).maxBy(_._2)._1\n",
    "        val menor = mapa_de_valores(chave).minBy(_._2)._1\n",
    "\n",
    "        println(\"Marca: \"+ chave + \" Mais Usado: \" + maior + \" Menos Usado: \" + menor )\n",
    "    }    \n",
    "}\n"
   ]
  },
  {
   "cell_type": "markdown",
   "metadata": {},
   "source": [
    "### 7 - Compute alguma informação não demandada pelas questões anteriores e justifique o porquê que tal informação é útil"
   ]
  },
  {
   "cell_type": "code",
   "execution_count": 33,
   "metadata": {},
   "outputs": [
    {
     "data": {
      "text/plain": [
       "\u001b[36mds\u001b[39m: \u001b[32mList\u001b[39m[\u001b[32mAmostra\u001b[39m] = \u001b[33mList\u001b[39m(\n",
       "  $sess.cmd0Wrapper$Helper$Amostra@2f11e8c1,\n",
       "  $sess.cmd0Wrapper$Helper$Amostra@3a917116,\n",
       "  $sess.cmd0Wrapper$Helper$Amostra@13d4c7c0,\n",
       "  $sess.cmd0Wrapper$Helper$Amostra@5b61ce6d,\n",
       "  $sess.cmd0Wrapper$Helper$Amostra@7b966220,\n",
       "  $sess.cmd0Wrapper$Helper$Amostra@4a3eb585,\n",
       "  $sess.cmd0Wrapper$Helper$Amostra@7f6181c5,\n",
       "  $sess.cmd0Wrapper$Helper$Amostra@2aa63ae2,\n",
       "  $sess.cmd0Wrapper$Helper$Amostra@62e9caf4,\n",
       "  $sess.cmd0Wrapper$Helper$Amostra@5d44c9b1,\n",
       "  $sess.cmd0Wrapper$Helper$Amostra@2e580475,\n",
       "\u001b[33m...\u001b[39m\n",
       "\u001b[36mingredientes\u001b[39m: \u001b[32mListBuffer\u001b[39m[\u001b[32mString\u001b[39m] = \u001b[33mListBuffer\u001b[39m(\n",
       "  \u001b[32m\"grocery & gourmet food\"\u001b[39m,\n",
       "  \u001b[32m\"food\"\u001b[39m,\n",
       "  \u001b[32m\"grocery\"\u001b[39m,\n",
       "  \u001b[32m\"grocery & gourmet food\"\u001b[39m,\n",
       "  \u001b[32m\"food\"\u001b[39m,\n",
       "  \u001b[32m\"grocery\"\u001b[39m,\n",
       "  \u001b[32m\"grocery & gourmet food\"\u001b[39m,\n",
       "  \u001b[32m\"grocery\"\u001b[39m,\n",
       "  \u001b[32m\"grocery & gourmet food\"\u001b[39m,\n",
       "  \u001b[32m\"grocery\"\u001b[39m,\n",
       "  \u001b[32m\"grocery & gourmet food\"\u001b[39m,\n",
       "\u001b[33m...\u001b[39m"
      ]
     },
     "execution_count": 33,
     "metadata": {},
     "output_type": "execute_result"
    }
   ],
   "source": [
    "val ds = dataset.filter(_.dataset(\"categories\") != \"\")\n",
    "\n",
    "var ingredientes: ListBuffer[String] = new ListBuffer[String]()\n",
    "\n",
    "for( i <- ds){\n",
    "    \n",
    "    for (j <- i.dataset(\"categories\").replace(\")\",\"\").replace(\"(\",\"\").toLowerCase.split(\",\").toList){\n",
    "        ingredientes += j\n",
    "    }\n",
    "}"
   ]
  },
  {
   "cell_type": "code",
   "execution_count": 34,
   "metadata": {},
   "outputs": [
    {
     "data": {
      "text/plain": [
       "\u001b[36magrupado\u001b[39m: \u001b[32mList\u001b[39m[(\u001b[32mString\u001b[39m, \u001b[32mInt\u001b[39m)] = \u001b[33mList\u001b[39m(\n",
       "  (\u001b[32m\"grocery & gourmet food\"\u001b[39m, \u001b[32m4015\u001b[39m),\n",
       "  (\u001b[32m\"food\"\u001b[39m, \u001b[32m5971\u001b[39m),\n",
       "  (\u001b[32m\"grocery\"\u001b[39m, \u001b[32m5999\u001b[39m),\n",
       "  (\u001b[32m\"grocery & gourmet food\"\u001b[39m, \u001b[32m4015\u001b[39m),\n",
       "  (\u001b[32m\"food\"\u001b[39m, \u001b[32m5971\u001b[39m),\n",
       "  (\u001b[32m\"grocery\"\u001b[39m, \u001b[32m5999\u001b[39m),\n",
       "  (\u001b[32m\"grocery & gourmet food\"\u001b[39m, \u001b[32m4015\u001b[39m),\n",
       "  (\u001b[32m\"grocery\"\u001b[39m, \u001b[32m5999\u001b[39m),\n",
       "  (\u001b[32m\"grocery & gourmet food\"\u001b[39m, \u001b[32m4015\u001b[39m),\n",
       "  (\u001b[32m\"grocery\"\u001b[39m, \u001b[32m5999\u001b[39m),\n",
       "  (\u001b[32m\"grocery & gourmet food\"\u001b[39m, \u001b[32m4015\u001b[39m),\n",
       "\u001b[33m...\u001b[39m"
      ]
     },
     "execution_count": 34,
     "metadata": {},
     "output_type": "execute_result"
    }
   ],
   "source": [
    "val agrupado = contador(ingredientes.toList)"
   ]
  },
  {
   "cell_type": "code",
   "execution_count": 35,
   "metadata": {},
   "outputs": [
    {
     "data": {
      "text/plain": [
       "\u001b[36mquantos\u001b[39m: \u001b[32mInt\u001b[39m = \u001b[32m1534\u001b[39m\n",
       "\u001b[36mmaior\u001b[39m: (\u001b[32mString\u001b[39m, \u001b[32mInt\u001b[39m) = (\u001b[32m\"grocery\"\u001b[39m, \u001b[32m5999\u001b[39m)\n",
       "\u001b[36mmenor\u001b[39m: (\u001b[32mString\u001b[39m, \u001b[32mInt\u001b[39m) = (\u001b[32m\"anchovies\"\u001b[39m, \u001b[32m1\u001b[39m)"
      ]
     },
     "execution_count": 35,
     "metadata": {},
     "output_type": "execute_result"
    }
   ],
   "source": [
    "val quantos = agrupado.distinct.length\n",
    "val maior = agrupado.maxBy(_._2)\n",
    "val menor = agrupado.minBy(_._2)"
   ]
  },
  {
   "cell_type": "markdown",
   "metadata": {},
   "source": [
    "## Categorias coletadas\n",
    "# É interessante saber quais conjuntos de alimentos foram coletados e qual aparece mais e menos, visto que isso pode determinar o domínio ao qual iria se aplicar as conclusões tiradas pela analise"
   ]
  }
 ],
 "metadata": {
  "kernelspec": {
   "display_name": "Scala",
   "language": "scala",
   "name": "scala"
  },
  "language_info": {
   "codemirror_mode": "text/x-scala",
   "file_extension": ".scala",
   "mimetype": "text/x-scala",
   "name": "scala211",
   "nbconvert_exporter": "script",
   "pygments_lexer": "scala",
   "version": "2.11.11"
  }
 },
 "nbformat": 4,
 "nbformat_minor": 2
}
