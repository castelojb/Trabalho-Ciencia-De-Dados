{
 "cells": [
  {
   "cell_type": "markdown",
   "metadata": {},
   "source": [
    "# Regressão Linear Simples - Trabalho\n",
    "\n",
    "## Estudo de caso: Seguro de automóvel sueco\n",
    "\n",
    "Agora, sabemos como implementar um modelo de regressão linear simples. Vamos aplicá-lo ao conjunto de dados do seguro de automóveis sueco. Esta seção assume que você baixou o conjunto de dados para o arquivo insurance.csv, o qual está disponível no notebook respectivo.\n",
    "\n",
    "O conjunto de dados envolve a previsão do pagamento total de todas as reclamações em milhares de Kronor sueco, dado o número total de reclamações. É um dataset composto por 63 observações com 1 variável de entrada e 1 variável de saída. Os nomes das variáveis são os seguintes:\n",
    "\n",
    "1. Número de reivindicações.\n",
    "2. Pagamento total para todas as reclamações em milhares de Kronor sueco.\n",
    "\n",
    "Voce deve adicionar algumas funções acessórias à regressão linear simples. Especificamente, uma função para carregar o arquivo CSV chamado *load_csv ()*, uma função para converter um conjunto de dados carregado para números chamado *str_column_to_float ()*, uma função para avaliar um algoritmo usando um conjunto de treino e teste chamado *split_train_split ()*, a função para calcular RMSE chamado *rmse_metric ()* e uma função para avaliar um algoritmo chamado *evaluate_algorithm()*.\n",
    "\n",
    "Utilize um conjunto de dados de treinamento de 60% dos dados para preparar o modelo. As previsões devem ser feitas nos restantes 40%. \n",
    "\n",
    "Compare a performabce do seu algoritmo com o algoritmo baseline, o qual utiliza a média dos pagamentos realizados para realizar a predição ( a média é 72,251 mil Kronor).\n"
   ]
  },
  {
   "cell_type": "markdown",
   "metadata": {
    "collapsed": true
   },
   "source": [
    "# Bibliotecas usadas"
   ]
  },
  {
   "cell_type": "code",
   "execution_count": 14,
   "metadata": {},
   "outputs": [],
   "source": [
    "import pandas as pd\n",
    "import numpy as np\n",
    "import random\n",
    "from sklearn.isotonic import IsotonicRegression"
   ]
  },
  {
   "cell_type": "code",
   "execution_count": 2,
   "metadata": {},
   "outputs": [],
   "source": [
    "def load_csv(caminho, separador):\n",
    "    return pd.read_csv(caminho, sep = separador, names = ['x','y'])"
   ]
  },
  {
   "cell_type": "code",
   "execution_count": 3,
   "metadata": {},
   "outputs": [],
   "source": [
    "def str_column_to_float (df, column):\n",
    "    try:\n",
    "        df[column] = np.float64(df[column])\n",
    "    except:\n",
    "        df[column] = np.float64( [x.replace(\",\",\".\") for x in list(df[column])] )"
   ]
  },
  {
   "cell_type": "code",
   "execution_count": 4,
   "metadata": {},
   "outputs": [],
   "source": [
    "def covariance(xl, mean_x, yl, mean_y):\n",
    "    covar = 0.0\n",
    "    for x,y in zip(xl, yl):\n",
    "        covar += (x - mean_x) * (y - mean_y)\n",
    "    return covar"
   ]
  },
  {
   "cell_type": "code",
   "execution_count": 5,
   "metadata": {},
   "outputs": [],
   "source": [
    "def coefficients(dataset):\n",
    "    x = np.array(dataset['x'])\n",
    "    y = np.array(dataset['y'])\n",
    "    x_mean, y_mean = np.mean(x), np.mean(y)\n",
    "    b1 = covariance(x, x_mean, y, y_mean) / np.var(x)\n",
    "    b0 = y_mean - b1 * x_mean\n",
    "    return b0, b1"
   ]
  },
  {
   "cell_type": "code",
   "execution_count": 6,
   "metadata": {},
   "outputs": [],
   "source": [
    "def rmse_metric (predicao, alvo):\n",
    "    soma = []\n",
    "    for pred, alv in zip(predicao, alvo):\n",
    "        soma.append( (pred-alv)**2 )\n",
    "    return np.sqrt(np.mean(soma))"
   ]
  },
  {
   "cell_type": "code",
   "execution_count": 7,
   "metadata": {},
   "outputs": [],
   "source": [
    "def regressãoLinearBaseLine(train, test):\n",
    "    predictions = []\n",
    "    b0, b1 = coefficients(train)\n",
    "    for x in np.array(test['x']):\n",
    "        ypred = b0 + b1 * x\n",
    "        predictions.append(ypred)\n",
    "    return np.array(predictions)"
   ]
  },
  {
   "cell_type": "code",
   "execution_count": 16,
   "metadata": {},
   "outputs": [],
   "source": [
    "def Isotonic_Regression(train, test):\n",
    "    xt = np.array(train['x'])\n",
    "    yt = np.array(train['y'])\n",
    "    \n",
    "    ir = IsotonicRegression()\n",
    "    \n",
    "    t = ir.fit(xt, yt)\n",
    "    \n",
    "    return t.predict(np.array(test['x']))"
   ]
  },
  {
   "cell_type": "code",
   "execution_count": 17,
   "metadata": {},
   "outputs": [],
   "source": [
    "def split_train_split (train, test, algoritmo):\n",
    "    \n",
    "    predicoes = algoritmo(train, test)\n",
    "    \n",
    "    alvo = np.array(test['y'])\n",
    "    \n",
    "    return rmse_metric(predicoes, alvo)\n",
    "    "
   ]
  },
  {
   "cell_type": "code",
   "execution_count": 22,
   "metadata": {},
   "outputs": [],
   "source": [
    "def splitDataset(df, splitRatio):\n",
    "    msk = np.random.rand(len(df)) < splitRatio\n",
    "    train = df[msk]\n",
    "    test = df[~msk]\n",
    "    return train, test"
   ]
  },
  {
   "cell_type": "code",
   "execution_count": 25,
   "metadata": {},
   "outputs": [],
   "source": [
    "def evaluate_algorithm():\n",
    "    insurance = load_csv('insurance.csv', ',')\n",
    "    \n",
    "    str_column_to_float(insurance,'x')\n",
    "    str_column_to_float(insurance,'y')\n",
    "    \n",
    "    train_insurance, test_insurance = splitDataset(insurance, 0.6)\n",
    "    \n",
    "    resultadoInsuranceLR = split_train_split(train_insurance, test_insurance, regressãoLinearBaseLine)\n",
    "    resultadoInsuranceIR = split_train_split(train_insurance, test_insurance, Isotonic_Regression)\n",
    "    \n",
    "    print(\"Resultados: Base Line {} Isotonic Regression {}\".format(resultadoInsuranceLR, resultadoInsuranceIR))\n",
    "    \n",
    "    return 0"
   ]
  },
  {
   "cell_type": "code",
   "execution_count": 26,
   "metadata": {},
   "outputs": [
    {
     "name": "stdout",
     "output_type": "stream",
     "text": [
      "Resultados: Base Line 1851.7424892310585 Isotonic Regression 43.9234541360834\n"
     ]
    },
    {
     "data": {
      "text/plain": [
       "0"
      ]
     },
     "execution_count": 26,
     "metadata": {},
     "output_type": "execute_result"
    }
   ],
   "source": [
    "evaluate_algorithm()"
   ]
  }
 ],
 "metadata": {
  "kernelspec": {
   "display_name": "Python 3",
   "language": "python",
   "name": "python3"
  },
  "language_info": {
   "codemirror_mode": {
    "name": "ipython",
    "version": 3
   },
   "file_extension": ".py",
   "mimetype": "text/x-python",
   "name": "python",
   "nbconvert_exporter": "python",
   "pygments_lexer": "ipython3",
   "version": "3.7.2"
  }
 },
 "nbformat": 4,
 "nbformat_minor": 2
}
